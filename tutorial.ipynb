{
 "cells": [
  {
   "cell_type": "markdown",
   "metadata": {},
   "source": [
    "## Tutorial Steps:\n",
    "\n",
    "1. **Download Example ISS Dataset:** Obtain the provided ISS dataset to work with.\n",
    "\n",
    "2. **Optional: Deconvolution and Maximum Intensity Projection:** You have the option to apply deconvolution and create maximum intensity projections from the raw image data.\n",
    "\n",
    "3. **Stitching Image Data:** Combine the image data using stitching techniques.\n",
    "\n",
    "4. **Decode Image Data:** Decode the stitched image data.\n",
    "\n",
    "5. **Quality Control and Visualization:** Evaluate the results through quality control measures and visualize them.\n"
   ]
  },
  {
   "cell_type": "markdown",
   "metadata": {},
   "source": [
    "### Step 1. Download ISS Data\n",
    "To begin, download the ISS toy dataset by clicking on the following link: [ISS Toy Dataset](https://drive.google.com/drive/folders/1AmNFyTtnl3i1QOuFRs_4u2StVnj7FkZK?usp=drive_link).\n"
   ]
  },
  {
   "cell_type": "markdown",
   "metadata": {},
   "source": [
    "Once the dataset is downloaded, take a moment to examine the file names and familiarize yourself with their naming conventions. The files adhere to the following naming pattern: `stage{stage}_round{round}_z{z}_channel{channel}.tif`, where the placeholders correspond to the numerical identifiers for the stage position, staining round, z level, and channel.\n"
   ]
  },
  {
   "cell_type": "markdown",
   "metadata": {},
   "source": [
    "Next, we'll proceed to load the dataset into an `ISSDataContainer` class. This class is designed to facilitate dataset management without the need to load the entire contents into memory simultaneously."
   ]
  },
  {
   "cell_type": "code",
   "execution_count": 1,
   "metadata": {},
   "outputs": [
    {
     "name": "stdout",
     "output_type": "stream",
     "text": [
      "Added decoding_tutorial\\S0_R0_C0_Z17.tif. Stage: 0, Round: 0, Channel: 0\n",
      "Added decoding_tutorial\\S0_R0_C1_Z17.tif. Stage: 0, Round: 0, Channel: 1\n",
      "Added decoding_tutorial\\S0_R0_C2_Z17.tif. Stage: 0, Round: 0, Channel: 2\n",
      "Added decoding_tutorial\\S0_R0_C3_Z17.tif. Stage: 0, Round: 0, Channel: 3\n",
      "Added decoding_tutorial\\S0_R0_C4_Z17.tif. Stage: 0, Round: 0, Channel: 4\n",
      "Added decoding_tutorial\\S1_R0_C0_Z17.tif. Stage: 1, Round: 0, Channel: 0\n",
      "Added decoding_tutorial\\S1_R0_C1_Z17.tif. Stage: 1, Round: 0, Channel: 1\n",
      "Added decoding_tutorial\\S1_R0_C2_Z17.tif. Stage: 1, Round: 0, Channel: 2\n",
      "Added decoding_tutorial\\S1_R0_C3_Z17.tif. Stage: 1, Round: 0, Channel: 3\n",
      "Added decoding_tutorial\\S1_R0_C4_Z17.tif. Stage: 1, Round: 0, Channel: 4\n",
      "Added decoding_tutorial\\S0_R1_C0_Z17.tif. Stage: 0, Round: 1, Channel: 0\n",
      "Added decoding_tutorial\\S0_R1_C1_Z17.tif. Stage: 0, Round: 1, Channel: 1\n",
      "Added decoding_tutorial\\S0_R1_C2_Z17.tif. Stage: 0, Round: 1, Channel: 2\n",
      "Added decoding_tutorial\\S0_R1_C3_Z17.tif. Stage: 0, Round: 1, Channel: 3\n",
      "Added decoding_tutorial\\S0_R1_C4_Z17.tif. Stage: 0, Round: 1, Channel: 4\n",
      "Added decoding_tutorial\\S1_R1_C0_Z17.tif. Stage: 1, Round: 1, Channel: 0\n",
      "Added decoding_tutorial\\S1_R1_C1_Z17.tif. Stage: 1, Round: 1, Channel: 1\n",
      "Added decoding_tutorial\\S1_R1_C2_Z17.tif. Stage: 1, Round: 1, Channel: 2\n",
      "Added decoding_tutorial\\S1_R1_C3_Z17.tif. Stage: 1, Round: 1, Channel: 3\n",
      "Added decoding_tutorial\\S1_R1_C4_Z17.tif. Stage: 1, Round: 1, Channel: 4\n",
      "Added decoding_tutorial\\S0_R2_C0_Z17.tif. Stage: 0, Round: 2, Channel: 0\n",
      "Added decoding_tutorial\\S0_R2_C1_Z17.tif. Stage: 0, Round: 2, Channel: 1\n",
      "Added decoding_tutorial\\S0_R2_C2_Z17.tif. Stage: 0, Round: 2, Channel: 2\n",
      "Added decoding_tutorial\\S0_R2_C3_Z17.tif. Stage: 0, Round: 2, Channel: 3\n",
      "Added decoding_tutorial\\S0_R2_C4_Z17.tif. Stage: 0, Round: 2, Channel: 4\n",
      "Added decoding_tutorial\\S1_R2_C0_Z17.tif. Stage: 1, Round: 2, Channel: 0\n",
      "Added decoding_tutorial\\S1_R2_C1_Z17.tif. Stage: 1, Round: 2, Channel: 1\n",
      "Added decoding_tutorial\\S1_R2_C2_Z17.tif. Stage: 1, Round: 2, Channel: 2\n",
      "Added decoding_tutorial\\S1_R2_C3_Z17.tif. Stage: 1, Round: 2, Channel: 3\n",
      "Added decoding_tutorial\\S1_R2_C4_Z17.tif. Stage: 1, Round: 2, Channel: 4\n",
      "Added decoding_tutorial\\S0_R3_C0_Z17.tif. Stage: 0, Round: 3, Channel: 0\n",
      "Added decoding_tutorial\\S0_R3_C1_Z17.tif. Stage: 0, Round: 3, Channel: 1\n",
      "Added decoding_tutorial\\S0_R3_C2_Z17.tif. Stage: 0, Round: 3, Channel: 2\n",
      "Added decoding_tutorial\\S0_R3_C3_Z17.tif. Stage: 0, Round: 3, Channel: 3\n",
      "Added decoding_tutorial\\S0_R3_C4_Z17.tif. Stage: 0, Round: 3, Channel: 4\n",
      "Added decoding_tutorial\\S1_R3_C0_Z17.tif. Stage: 1, Round: 3, Channel: 0\n",
      "Added decoding_tutorial\\S1_R3_C1_Z17.tif. Stage: 1, Round: 3, Channel: 1\n",
      "Added decoding_tutorial\\S1_R3_C2_Z17.tif. Stage: 1, Round: 3, Channel: 2\n",
      "Added decoding_tutorial\\S1_R3_C3_Z17.tif. Stage: 1, Round: 3, Channel: 3\n",
      "Added decoding_tutorial\\S1_R3_C4_Z17.tif. Stage: 1, Round: 3, Channel: 4\n",
      "Added decoding_tutorial\\S0_R4_C0_Z17.tif. Stage: 0, Round: 4, Channel: 0\n",
      "Added decoding_tutorial\\S0_R4_C1_Z17.tif. Stage: 0, Round: 4, Channel: 1\n",
      "Added decoding_tutorial\\S0_R4_C2_Z17.tif. Stage: 0, Round: 4, Channel: 2\n",
      "Added decoding_tutorial\\S0_R4_C3_Z17.tif. Stage: 0, Round: 4, Channel: 3\n",
      "Added decoding_tutorial\\S0_R4_C4_Z17.tif. Stage: 0, Round: 4, Channel: 4\n",
      "Added decoding_tutorial\\S1_R4_C0_Z17.tif. Stage: 1, Round: 4, Channel: 0\n",
      "Added decoding_tutorial\\S1_R4_C1_Z17.tif. Stage: 1, Round: 4, Channel: 1\n",
      "Added decoding_tutorial\\S1_R4_C2_Z17.tif. Stage: 1, Round: 4, Channel: 2\n",
      "Added decoding_tutorial\\S1_R4_C3_Z17.tif. Stage: 1, Round: 4, Channel: 3\n",
      "Added decoding_tutorial\\S1_R4_C4_Z17.tif. Stage: 1, Round: 4, Channel: 4\n"
     ]
    },
    {
     "data": {
      "text/plain": [
       "<imaging_utils.ISSDataContainer at 0x20515756fd0>"
      ]
     },
     "execution_count": 1,
     "metadata": {},
     "output_type": "execute_result"
    }
   ],
   "source": [
    "from imaging_utils import ISSDataContainer\n",
    "\n",
    "# Create the container\n",
    "issdata = ISSDataContainer()\n",
    "\n",
    "# Add images\n",
    "# join('downloads', 'stage{stage}_rounds{round}_z{z}_channel{channel}.tif')\n",
    "pattern = 'decoding_tutorial\\\\S{stage}_R{round}_C{channel}_Z{z}.tif'\n",
    "issdata.add_images_from_filepattern(pattern)"
   ]
  },
  {
   "cell_type": "markdown",
   "metadata": {},
   "source": [
    "For verification, you can print out the size of the dataset.\n"
   ]
  },
  {
   "cell_type": "code",
   "execution_count": 2,
   "metadata": {},
   "outputs": [
    {
     "name": "stdout",
     "output_type": "stream",
     "text": [
      "There are 2 number of stages\n",
      "There are 5 number of rounds\n",
      "There are 5 number of channels\n"
     ]
    }
   ],
   "source": [
    "num_stages, num_rounds, num_channels = issdata.get_dataset_shape()\n",
    "print(f'There are {num_stages} number of stages')\n",
    "print(f'There are {num_rounds} number of rounds')\n",
    "print(f'There are {num_channels} number of channels')"
   ]
  },
  {
   "cell_type": "markdown",
   "metadata": {},
   "source": [
    "We can also verify that there are equal number of images for each stage, round and channel"
   ]
  },
  {
   "cell_type": "code",
   "execution_count": 3,
   "metadata": {},
   "outputs": [
    {
     "ename": "IncompleteDatasetError",
     "evalue": "Found different number of channels for a given stage location.",
     "output_type": "error",
     "traceback": [
      "\u001b[1;31m---------------------------------------------------------------------------\u001b[0m",
      "\u001b[1;31mIncompleteDatasetError\u001b[0m                    Traceback (most recent call last)",
      "\u001b[1;32mc:\\Users\\Axel\\Documents\\GitHub\\isstools\\tutorial.ipynb Cell 9\u001b[0m line \u001b[0;36m1\n\u001b[1;32m----> <a href='vscode-notebook-cell:/c%3A/Users/Axel/Documents/GitHub/isstools/tutorial.ipynb#X11sZmlsZQ%3D%3D?line=0'>1</a>\u001b[0m issdata\u001b[39m.\u001b[39;49mis_dataset_complete()\n",
      "File \u001b[1;32mc:\\Users\\Axel\\Documents\\GitHub\\isstools\\imaging_utils.py:616\u001b[0m, in \u001b[0;36mISSDataContainer.is_dataset_complete\u001b[1;34m(self)\u001b[0m\n\u001b[0;32m    613\u001b[0m num_zplanes_per_stage \u001b[39m=\u001b[39m {zplanes \u001b[39mfor\u001b[39;00m zplanes \u001b[39min\u001b[39;00m z_planes_per_stage\u001b[39m.\u001b[39mvalues()}\n\u001b[0;32m    615\u001b[0m \u001b[39mif\u001b[39;00m num_channels_per_stage \u001b[39m!=\u001b[39m \u001b[39m1\u001b[39m:\n\u001b[1;32m--> 616\u001b[0m     \u001b[39mraise\u001b[39;00m IncompleteDatasetError(\u001b[39m'\u001b[39m\u001b[39mFound different number of channels for a given stage location.\u001b[39m\u001b[39m'\u001b[39m)\n\u001b[0;32m    617\u001b[0m \u001b[39mif\u001b[39;00m num_rounds_per_stage \u001b[39m!=\u001b[39m \u001b[39m1\u001b[39m:\n\u001b[0;32m    618\u001b[0m     \u001b[39mraise\u001b[39;00m IncompleteDatasetError(\u001b[39m'\u001b[39m\u001b[39mFound different number of rounds for a given stage location.\u001b[39m\u001b[39m'\u001b[39m)\n",
      "\u001b[1;31mIncompleteDatasetError\u001b[0m: Found different number of channels for a given stage location."
     ]
    }
   ],
   "source": [
    "issdata.is_dataset_complete()"
   ]
  },
  {
   "cell_type": "markdown",
   "metadata": {},
   "source": [
    "(Optional) Let's take a look at the data using Napari."
   ]
  },
  {
   "cell_type": "code",
   "execution_count": 3,
   "metadata": {},
   "outputs": [
    {
     "name": "stdout",
     "output_type": "stream",
     "text": [
      "{'image_files': ['C:\\\\Users\\\\Axel\\\\Documents\\\\ISTDECO\\\\downloads\\\\liver_3d\\\\R0_C0_Z0_L0.tif', 'C:\\\\Users\\\\Axel\\\\Documents\\\\ISTDECO\\\\downloads\\\\liver_3d\\\\R0_C0_Z1_L0.tif', 'C:\\\\Users\\\\Axel\\\\Documents\\\\ISTDECO\\\\downloads\\\\liver_3d\\\\R0_C0_Z2_L0.tif', 'C:\\\\Users\\\\Axel\\\\Documents\\\\ISTDECO\\\\downloads\\\\liver_3d\\\\R0_C0_Z3_L0.tif', 'C:\\\\Users\\\\Axel\\\\Documents\\\\ISTDECO\\\\downloads\\\\liver_3d\\\\R0_C0_Z4_L0.tif', 'C:\\\\Users\\\\Axel\\\\Documents\\\\ISTDECO\\\\downloads\\\\liver_3d\\\\R0_C0_Z5_L0.tif', 'C:\\\\Users\\\\Axel\\\\Documents\\\\ISTDECO\\\\downloads\\\\liver_3d\\\\R0_C0_Z6_L0.tif', 'C:\\\\Users\\\\Axel\\\\Documents\\\\ISTDECO\\\\downloads\\\\liver_3d\\\\R0_C0_Z7_L0.tif', 'C:\\\\Users\\\\Axel\\\\Documents\\\\ISTDECO\\\\downloads\\\\liver_3d\\\\R0_C0_Z8_L0.tif', 'C:\\\\Users\\\\Axel\\\\Documents\\\\ISTDECO\\\\downloads\\\\liver_3d\\\\R0_C0_Z9_L0.tif', 'C:\\\\Users\\\\Axel\\\\Documents\\\\ISTDECO\\\\downloads\\\\liver_3d\\\\R0_C0_Z10_L0.tif', 'C:\\\\Users\\\\Axel\\\\Documents\\\\ISTDECO\\\\downloads\\\\liver_3d\\\\R0_C0_Z11_L0.tif', 'C:\\\\Users\\\\Axel\\\\Documents\\\\ISTDECO\\\\downloads\\\\liver_3d\\\\R0_C0_Z12_L0.tif', 'C:\\\\Users\\\\Axel\\\\Documents\\\\ISTDECO\\\\downloads\\\\liver_3d\\\\R0_C0_Z13_L0.tif', 'C:\\\\Users\\\\Axel\\\\Documents\\\\ISTDECO\\\\downloads\\\\liver_3d\\\\R0_C0_Z14_L0.tif', 'C:\\\\Users\\\\Axel\\\\Documents\\\\ISTDECO\\\\downloads\\\\liver_3d\\\\R0_C0_Z15_L0.tif', 'C:\\\\Users\\\\Axel\\\\Documents\\\\ISTDECO\\\\downloads\\\\liver_3d\\\\R0_C0_Z16_L0.tif', 'C:\\\\Users\\\\Axel\\\\Documents\\\\ISTDECO\\\\downloads\\\\liver_3d\\\\R0_C0_Z17_L0.tif'], 'stage': 0, 'round': 0, 'channel': 0, 'loaded': False}\n",
      "{'image_files': ['C:\\\\Users\\\\Axel\\\\Documents\\\\ISTDECO\\\\downloads\\\\liver_3d\\\\R0_C1_Z0_L0.tif', 'C:\\\\Users\\\\Axel\\\\Documents\\\\ISTDECO\\\\downloads\\\\liver_3d\\\\R0_C1_Z1_L0.tif', 'C:\\\\Users\\\\Axel\\\\Documents\\\\ISTDECO\\\\downloads\\\\liver_3d\\\\R0_C1_Z2_L0.tif', 'C:\\\\Users\\\\Axel\\\\Documents\\\\ISTDECO\\\\downloads\\\\liver_3d\\\\R0_C1_Z3_L0.tif', 'C:\\\\Users\\\\Axel\\\\Documents\\\\ISTDECO\\\\downloads\\\\liver_3d\\\\R0_C1_Z4_L0.tif', 'C:\\\\Users\\\\Axel\\\\Documents\\\\ISTDECO\\\\downloads\\\\liver_3d\\\\R0_C1_Z5_L0.tif', 'C:\\\\Users\\\\Axel\\\\Documents\\\\ISTDECO\\\\downloads\\\\liver_3d\\\\R0_C1_Z6_L0.tif', 'C:\\\\Users\\\\Axel\\\\Documents\\\\ISTDECO\\\\downloads\\\\liver_3d\\\\R0_C1_Z7_L0.tif', 'C:\\\\Users\\\\Axel\\\\Documents\\\\ISTDECO\\\\downloads\\\\liver_3d\\\\R0_C1_Z8_L0.tif', 'C:\\\\Users\\\\Axel\\\\Documents\\\\ISTDECO\\\\downloads\\\\liver_3d\\\\R0_C1_Z9_L0.tif', 'C:\\\\Users\\\\Axel\\\\Documents\\\\ISTDECO\\\\downloads\\\\liver_3d\\\\R0_C1_Z10_L0.tif', 'C:\\\\Users\\\\Axel\\\\Documents\\\\ISTDECO\\\\downloads\\\\liver_3d\\\\R0_C1_Z11_L0.tif', 'C:\\\\Users\\\\Axel\\\\Documents\\\\ISTDECO\\\\downloads\\\\liver_3d\\\\R0_C1_Z12_L0.tif', 'C:\\\\Users\\\\Axel\\\\Documents\\\\ISTDECO\\\\downloads\\\\liver_3d\\\\R0_C1_Z13_L0.tif', 'C:\\\\Users\\\\Axel\\\\Documents\\\\ISTDECO\\\\downloads\\\\liver_3d\\\\R0_C1_Z14_L0.tif', 'C:\\\\Users\\\\Axel\\\\Documents\\\\ISTDECO\\\\downloads\\\\liver_3d\\\\R0_C1_Z15_L0.tif', 'C:\\\\Users\\\\Axel\\\\Documents\\\\ISTDECO\\\\downloads\\\\liver_3d\\\\R0_C1_Z16_L0.tif', 'C:\\\\Users\\\\Axel\\\\Documents\\\\ISTDECO\\\\downloads\\\\liver_3d\\\\R0_C1_Z17_L0.tif'], 'stage': 0, 'round': 0, 'channel': 1, 'loaded': False}\n",
      "{'image_files': ['C:\\\\Users\\\\Axel\\\\Documents\\\\ISTDECO\\\\downloads\\\\liver_3d\\\\R0_C2_Z0_L0.tif', 'C:\\\\Users\\\\Axel\\\\Documents\\\\ISTDECO\\\\downloads\\\\liver_3d\\\\R0_C2_Z1_L0.tif', 'C:\\\\Users\\\\Axel\\\\Documents\\\\ISTDECO\\\\downloads\\\\liver_3d\\\\R0_C2_Z2_L0.tif', 'C:\\\\Users\\\\Axel\\\\Documents\\\\ISTDECO\\\\downloads\\\\liver_3d\\\\R0_C2_Z3_L0.tif', 'C:\\\\Users\\\\Axel\\\\Documents\\\\ISTDECO\\\\downloads\\\\liver_3d\\\\R0_C2_Z4_L0.tif', 'C:\\\\Users\\\\Axel\\\\Documents\\\\ISTDECO\\\\downloads\\\\liver_3d\\\\R0_C2_Z5_L0.tif', 'C:\\\\Users\\\\Axel\\\\Documents\\\\ISTDECO\\\\downloads\\\\liver_3d\\\\R0_C2_Z6_L0.tif', 'C:\\\\Users\\\\Axel\\\\Documents\\\\ISTDECO\\\\downloads\\\\liver_3d\\\\R0_C2_Z7_L0.tif', 'C:\\\\Users\\\\Axel\\\\Documents\\\\ISTDECO\\\\downloads\\\\liver_3d\\\\R0_C2_Z8_L0.tif', 'C:\\\\Users\\\\Axel\\\\Documents\\\\ISTDECO\\\\downloads\\\\liver_3d\\\\R0_C2_Z9_L0.tif', 'C:\\\\Users\\\\Axel\\\\Documents\\\\ISTDECO\\\\downloads\\\\liver_3d\\\\R0_C2_Z10_L0.tif', 'C:\\\\Users\\\\Axel\\\\Documents\\\\ISTDECO\\\\downloads\\\\liver_3d\\\\R0_C2_Z11_L0.tif', 'C:\\\\Users\\\\Axel\\\\Documents\\\\ISTDECO\\\\downloads\\\\liver_3d\\\\R0_C2_Z12_L0.tif', 'C:\\\\Users\\\\Axel\\\\Documents\\\\ISTDECO\\\\downloads\\\\liver_3d\\\\R0_C2_Z13_L0.tif', 'C:\\\\Users\\\\Axel\\\\Documents\\\\ISTDECO\\\\downloads\\\\liver_3d\\\\R0_C2_Z14_L0.tif', 'C:\\\\Users\\\\Axel\\\\Documents\\\\ISTDECO\\\\downloads\\\\liver_3d\\\\R0_C2_Z15_L0.tif', 'C:\\\\Users\\\\Axel\\\\Documents\\\\ISTDECO\\\\downloads\\\\liver_3d\\\\R0_C2_Z16_L0.tif', 'C:\\\\Users\\\\Axel\\\\Documents\\\\ISTDECO\\\\downloads\\\\liver_3d\\\\R0_C2_Z17_L0.tif'], 'stage': 0, 'round': 0, 'channel': 2, 'loaded': False}\n",
      "{'image_files': ['C:\\\\Users\\\\Axel\\\\Documents\\\\ISTDECO\\\\downloads\\\\liver_3d\\\\R0_C3_Z0_L0.tif', 'C:\\\\Users\\\\Axel\\\\Documents\\\\ISTDECO\\\\downloads\\\\liver_3d\\\\R0_C3_Z1_L0.tif', 'C:\\\\Users\\\\Axel\\\\Documents\\\\ISTDECO\\\\downloads\\\\liver_3d\\\\R0_C3_Z2_L0.tif', 'C:\\\\Users\\\\Axel\\\\Documents\\\\ISTDECO\\\\downloads\\\\liver_3d\\\\R0_C3_Z3_L0.tif', 'C:\\\\Users\\\\Axel\\\\Documents\\\\ISTDECO\\\\downloads\\\\liver_3d\\\\R0_C3_Z4_L0.tif', 'C:\\\\Users\\\\Axel\\\\Documents\\\\ISTDECO\\\\downloads\\\\liver_3d\\\\R0_C3_Z5_L0.tif', 'C:\\\\Users\\\\Axel\\\\Documents\\\\ISTDECO\\\\downloads\\\\liver_3d\\\\R0_C3_Z6_L0.tif', 'C:\\\\Users\\\\Axel\\\\Documents\\\\ISTDECO\\\\downloads\\\\liver_3d\\\\R0_C3_Z7_L0.tif', 'C:\\\\Users\\\\Axel\\\\Documents\\\\ISTDECO\\\\downloads\\\\liver_3d\\\\R0_C3_Z8_L0.tif', 'C:\\\\Users\\\\Axel\\\\Documents\\\\ISTDECO\\\\downloads\\\\liver_3d\\\\R0_C3_Z9_L0.tif', 'C:\\\\Users\\\\Axel\\\\Documents\\\\ISTDECO\\\\downloads\\\\liver_3d\\\\R0_C3_Z10_L0.tif', 'C:\\\\Users\\\\Axel\\\\Documents\\\\ISTDECO\\\\downloads\\\\liver_3d\\\\R0_C3_Z11_L0.tif', 'C:\\\\Users\\\\Axel\\\\Documents\\\\ISTDECO\\\\downloads\\\\liver_3d\\\\R0_C3_Z12_L0.tif', 'C:\\\\Users\\\\Axel\\\\Documents\\\\ISTDECO\\\\downloads\\\\liver_3d\\\\R0_C3_Z13_L0.tif', 'C:\\\\Users\\\\Axel\\\\Documents\\\\ISTDECO\\\\downloads\\\\liver_3d\\\\R0_C3_Z14_L0.tif', 'C:\\\\Users\\\\Axel\\\\Documents\\\\ISTDECO\\\\downloads\\\\liver_3d\\\\R0_C3_Z15_L0.tif', 'C:\\\\Users\\\\Axel\\\\Documents\\\\ISTDECO\\\\downloads\\\\liver_3d\\\\R0_C3_Z16_L0.tif', 'C:\\\\Users\\\\Axel\\\\Documents\\\\ISTDECO\\\\downloads\\\\liver_3d\\\\R0_C3_Z17_L0.tif'], 'stage': 0, 'round': 0, 'channel': 3, 'loaded': False}\n",
      "{'image_files': ['C:\\\\Users\\\\Axel\\\\Documents\\\\ISTDECO\\\\downloads\\\\liver_3d\\\\R0_C4_Z0_L0.tif', 'C:\\\\Users\\\\Axel\\\\Documents\\\\ISTDECO\\\\downloads\\\\liver_3d\\\\R0_C4_Z1_L0.tif', 'C:\\\\Users\\\\Axel\\\\Documents\\\\ISTDECO\\\\downloads\\\\liver_3d\\\\R0_C4_Z2_L0.tif', 'C:\\\\Users\\\\Axel\\\\Documents\\\\ISTDECO\\\\downloads\\\\liver_3d\\\\R0_C4_Z3_L0.tif', 'C:\\\\Users\\\\Axel\\\\Documents\\\\ISTDECO\\\\downloads\\\\liver_3d\\\\R0_C4_Z4_L0.tif', 'C:\\\\Users\\\\Axel\\\\Documents\\\\ISTDECO\\\\downloads\\\\liver_3d\\\\R0_C4_Z5_L0.tif', 'C:\\\\Users\\\\Axel\\\\Documents\\\\ISTDECO\\\\downloads\\\\liver_3d\\\\R0_C4_Z6_L0.tif', 'C:\\\\Users\\\\Axel\\\\Documents\\\\ISTDECO\\\\downloads\\\\liver_3d\\\\R0_C4_Z7_L0.tif', 'C:\\\\Users\\\\Axel\\\\Documents\\\\ISTDECO\\\\downloads\\\\liver_3d\\\\R0_C4_Z8_L0.tif', 'C:\\\\Users\\\\Axel\\\\Documents\\\\ISTDECO\\\\downloads\\\\liver_3d\\\\R0_C4_Z9_L0.tif', 'C:\\\\Users\\\\Axel\\\\Documents\\\\ISTDECO\\\\downloads\\\\liver_3d\\\\R0_C4_Z10_L0.tif', 'C:\\\\Users\\\\Axel\\\\Documents\\\\ISTDECO\\\\downloads\\\\liver_3d\\\\R0_C4_Z11_L0.tif', 'C:\\\\Users\\\\Axel\\\\Documents\\\\ISTDECO\\\\downloads\\\\liver_3d\\\\R0_C4_Z12_L0.tif', 'C:\\\\Users\\\\Axel\\\\Documents\\\\ISTDECO\\\\downloads\\\\liver_3d\\\\R0_C4_Z13_L0.tif', 'C:\\\\Users\\\\Axel\\\\Documents\\\\ISTDECO\\\\downloads\\\\liver_3d\\\\R0_C4_Z14_L0.tif', 'C:\\\\Users\\\\Axel\\\\Documents\\\\ISTDECO\\\\downloads\\\\liver_3d\\\\R0_C4_Z15_L0.tif', 'C:\\\\Users\\\\Axel\\\\Documents\\\\ISTDECO\\\\downloads\\\\liver_3d\\\\R0_C4_Z16_L0.tif', 'C:\\\\Users\\\\Axel\\\\Documents\\\\ISTDECO\\\\downloads\\\\liver_3d\\\\R0_C4_Z17_L0.tif'], 'stage': 0, 'round': 0, 'channel': 4, 'loaded': False}\n"
     ]
    }
   ],
   "source": [
    "import napari\n",
    "\n",
    "# Select small piece of the data\n",
    "small_data = issdata.select(stage=0, round=0)\n",
    "\n",
    "# Load images into memory\n",
    "small_data.load()\n",
    "\n",
    "# Run Napari\n",
    "viewer = napari.Viewer()\n",
    "viewer.add_image(small_data.data.squeeze())\n",
    "napari.run()\n",
    "\n",
    "# Free memory\n",
    "small_data.unload()"
   ]
  },
  {
   "cell_type": "markdown",
   "metadata": {},
   "source": [
    "### Step 2. 2D Projection\n",
    "\n",
    "In this step, we will perform a 2D projection of our data through maximum intensity projection. This involves selecting the maximum pixel value across different z-planes. To enhance the clarity of the 2D images, we can apply deconvolution. It's worth noting that deconvolution can be applied either before or after the 2D projection. However, it's important to highlight that deconvolution can be computationally intensive, often requiring a CUDA-supported GPU for efficient processing, especially when dealing with substantial stacks of 3D multiplexed images. For the purpose of this tutorial, we will omit the deconvolution step, but the necessary functions can be found in the `deconvolution.py` file.\n"
   ]
  },
  {
   "cell_type": "code",
   "execution_count": 12,
   "metadata": {},
   "outputs": [
    {
     "ename": "IndexError",
     "evalue": "list index out of range",
     "output_type": "error",
     "traceback": [
      "\u001b[1;31m---------------------------------------------------------------------------\u001b[0m",
      "\u001b[1;31mIndexError\u001b[0m                                Traceback (most recent call last)",
      "\u001b[1;32mc:\\Users\\Axel\\Documents\\GitHub\\isstools\\tutorial.ipynb Cell 13\u001b[0m line \u001b[0;36m8\n\u001b[0;32m      <a href='vscode-notebook-cell:/c%3A/Users/Axel/Documents/GitHub/isstools/tutorial.ipynb#X15sZmlsZQ%3D%3D?line=3'>4</a>\u001b[0m \u001b[39mfrom\u001b[39;00m \u001b[39mos\u001b[39;00m\u001b[39m.\u001b[39;00m\u001b[39mpath\u001b[39;00m \u001b[39mimport\u001b[39;00m join\n\u001b[0;32m      <a href='vscode-notebook-cell:/c%3A/Users/Axel/Documents/GitHub/isstools/tutorial.ipynb#X15sZmlsZQ%3D%3D?line=5'>6</a>\u001b[0m \u001b[39mfor\u001b[39;00m index, small_dataset \u001b[39min\u001b[39;00m issdata\u001b[39m.\u001b[39miterate_dataset(iter_stages\u001b[39m=\u001b[39m\u001b[39mTrue\u001b[39;00m, iter_rounds\u001b[39m=\u001b[39m\u001b[39mTrue\u001b[39;00m, iter_channels\u001b[39m=\u001b[39m\u001b[39mTrue\u001b[39;00m):\n\u001b[0;32m      <a href='vscode-notebook-cell:/c%3A/Users/Axel/Documents/GitHub/isstools/tutorial.ipynb#X15sZmlsZQ%3D%3D?line=6'>7</a>\u001b[0m     \u001b[39m# Load the small dataset\u001b[39;00m\n\u001b[1;32m----> <a href='vscode-notebook-cell:/c%3A/Users/Axel/Documents/GitHub/isstools/tutorial.ipynb#X15sZmlsZQ%3D%3D?line=7'>8</a>\u001b[0m     small_dataset\u001b[39m.\u001b[39;49mload()\n\u001b[0;32m      <a href='vscode-notebook-cell:/c%3A/Users/Axel/Documents/GitHub/isstools/tutorial.ipynb#X15sZmlsZQ%3D%3D?line=8'>9</a>\u001b[0m     \u001b[39m# Get the image data\u001b[39;00m\n\u001b[0;32m     <a href='vscode-notebook-cell:/c%3A/Users/Axel/Documents/GitHub/isstools/tutorial.ipynb#X15sZmlsZQ%3D%3D?line=9'>10</a>\u001b[0m     data \u001b[39m=\u001b[39m small_dataset\u001b[39m.\u001b[39mdata\n",
      "File \u001b[1;32mc:\\Users\\Axel\\Documents\\GitHub\\isstools\\imaging_utils.py:419\u001b[0m, in \u001b[0;36mISSDataContainer.load\u001b[1;34m(self)\u001b[0m\n\u001b[0;32m    416\u001b[0m \u001b[39mfor\u001b[39;00m image \u001b[39min\u001b[39;00m \u001b[39mself\u001b[39m\u001b[39m.\u001b[39mimages:\n\u001b[0;32m    417\u001b[0m     \u001b[39m# Simulating loading the image into memory\u001b[39;00m\n\u001b[0;32m    418\u001b[0m     image[\u001b[39m'\u001b[39m\u001b[39mloaded\u001b[39m\u001b[39m'\u001b[39m] \u001b[39m=\u001b[39m \u001b[39mTrue\u001b[39;00m\n\u001b[1;32m--> 419\u001b[0m \u001b[39mself\u001b[39m\u001b[39m.\u001b[39mloaded_images \u001b[39m=\u001b[39m \u001b[39mself\u001b[39;49m\u001b[39m.\u001b[39;49mget_loaded_images_array()\n\u001b[0;32m    420\u001b[0m \u001b[39mreturn\u001b[39;00m \u001b[39mself\u001b[39m\n",
      "File \u001b[1;32mc:\\Users\\Axel\\Documents\\GitHub\\isstools\\imaging_utils.py:530\u001b[0m, in \u001b[0;36mISSDataContainer.get_loaded_images_array\u001b[1;34m(self)\u001b[0m\n\u001b[0;32m    527\u001b[0m y_size, x_size \u001b[39m=\u001b[39m \u001b[39mNone\u001b[39;00m, \u001b[39mNone\u001b[39;00m\n\u001b[0;32m    529\u001b[0m \u001b[39mfor\u001b[39;00m image \u001b[39min\u001b[39;00m loaded_images:\n\u001b[1;32m--> 530\u001b[0m     y_size, x_size \u001b[39m=\u001b[39m np\u001b[39m.\u001b[39masarray(Image\u001b[39m.\u001b[39mopen(image[\u001b[39m'\u001b[39;49m\u001b[39mimage_files\u001b[39;49m\u001b[39m'\u001b[39;49m][\u001b[39m0\u001b[39;49m]))\u001b[39m.\u001b[39mshape[\u001b[39m0\u001b[39m:\u001b[39m2\u001b[39m]\n\u001b[0;32m    531\u001b[0m     \u001b[39mbreak\u001b[39;00m\n\u001b[0;32m    533\u001b[0m image_array \u001b[39m=\u001b[39m np\u001b[39m.\u001b[39mzeros((num_stages, num_rounds, num_channels, z_planes, y_size, x_size), dtype\u001b[39m=\u001b[39m\u001b[39mself\u001b[39m\u001b[39m.\u001b[39mget_common_dtype())\n",
      "\u001b[1;31mIndexError\u001b[0m: list index out of range"
     ]
    }
   ],
   "source": [
    "# The iterate dataset allows us to iterate the dataset over stages, rounds and channels.\n",
    "import numpy as np\n",
    "from imaging_utils import imwrite\n",
    "from os.path import join\n",
    "\n",
    "for index, small_dataset in issdata.iterate_dataset(iter_stages=True, iter_rounds=True, iter_channels=True):\n",
    "    # Load the small dataset\n",
    "    small_dataset.load()\n",
    "    # Get the image data\n",
    "    data = small_dataset.data\n",
    "    # MIP the data\n",
    "    data = np.squeeze(data).max(axis=0)\n",
    "    # Save the data\n",
    "    imwrite(join('MIP','S{stage}_R{round}_C{channel}.tif'.format(**index)), data)\n",
    "    # Finally, we unload the images (otherwise we might run oom)\n",
    "    small_dataset.unload()\n",
    "\n",
    "# Or equivalently ...\n",
    "# from ISSDataset import mip\n",
    "# mip(join('mip','stage{stage}_round{round}_channel{channel}.tif'), issdata)\n"
   ]
  },
  {
   "cell_type": "markdown",
   "metadata": {},
   "source": [
    "### Step 3. Stitching\n",
    "\n",
    "In this step, we will proceed to stitch the data using ASHLAR. This task can be accomplished by utilizing the `stitch_ashlar.py` function.\n"
   ]
  },
  {
   "cell_type": "code",
   "execution_count": 14,
   "metadata": {},
   "outputs": [
    {
     "name": "stdout",
     "output_type": "stream",
     "text": [
      "Added MIP\\S0_R0_C0.tif. Stage: 0, Round: 0, Channel: 0\n",
      "Added MIP\\S0_R0_C1.tif. Stage: 0, Round: 0, Channel: 1\n",
      "Added MIP\\S0_R0_C2.tif. Stage: 0, Round: 0, Channel: 2\n",
      "Added MIP\\S0_R0_C3.tif. Stage: 0, Round: 0, Channel: 3\n",
      "Added MIP\\S0_R0_C4.tif. Stage: 0, Round: 0, Channel: 4\n",
      "Added MIP\\S1_R0_C0.tif. Stage: 1, Round: 0, Channel: 0\n",
      "Added MIP\\S1_R0_C1.tif. Stage: 1, Round: 0, Channel: 1\n",
      "Added MIP\\S1_R0_C2.tif. Stage: 1, Round: 0, Channel: 2\n",
      "Added MIP\\S1_R0_C3.tif. Stage: 1, Round: 0, Channel: 3\n",
      "Added MIP\\S1_R0_C4.tif. Stage: 1, Round: 0, Channel: 4\n",
      "Added MIP\\S0_R1_C0.tif. Stage: 0, Round: 1, Channel: 0\n",
      "Added MIP\\S0_R1_C1.tif. Stage: 0, Round: 1, Channel: 1\n",
      "Added MIP\\S0_R1_C2.tif. Stage: 0, Round: 1, Channel: 2\n",
      "Added MIP\\S0_R1_C3.tif. Stage: 0, Round: 1, Channel: 3\n",
      "Added MIP\\S0_R1_C4.tif. Stage: 0, Round: 1, Channel: 4\n",
      "Added MIP\\S1_R1_C0.tif. Stage: 1, Round: 1, Channel: 0\n",
      "Added MIP\\S1_R1_C1.tif. Stage: 1, Round: 1, Channel: 1\n",
      "Added MIP\\S1_R1_C2.tif. Stage: 1, Round: 1, Channel: 2\n",
      "Added MIP\\S1_R1_C3.tif. Stage: 1, Round: 1, Channel: 3\n",
      "Added MIP\\S1_R1_C4.tif. Stage: 1, Round: 1, Channel: 4\n",
      "Added MIP\\S0_R2_C0.tif. Stage: 0, Round: 2, Channel: 0\n",
      "Added MIP\\S0_R2_C1.tif. Stage: 0, Round: 2, Channel: 1\n",
      "Added MIP\\S0_R2_C2.tif. Stage: 0, Round: 2, Channel: 2\n",
      "Added MIP\\S0_R2_C3.tif. Stage: 0, Round: 2, Channel: 3\n",
      "Added MIP\\S0_R2_C4.tif. Stage: 0, Round: 2, Channel: 4\n",
      "Added MIP\\S1_R2_C0.tif. Stage: 1, Round: 2, Channel: 0\n",
      "Added MIP\\S1_R2_C1.tif. Stage: 1, Round: 2, Channel: 1\n",
      "Added MIP\\S1_R2_C2.tif. Stage: 1, Round: 2, Channel: 2\n",
      "Added MIP\\S1_R2_C3.tif. Stage: 1, Round: 2, Channel: 3\n",
      "Added MIP\\S1_R2_C4.tif. Stage: 1, Round: 2, Channel: 4\n",
      "Added MIP\\S0_R3_C0.tif. Stage: 0, Round: 3, Channel: 0\n",
      "Added MIP\\S0_R3_C1.tif. Stage: 0, Round: 3, Channel: 1\n",
      "Added MIP\\S0_R3_C2.tif. Stage: 0, Round: 3, Channel: 2\n",
      "Added MIP\\S0_R3_C3.tif. Stage: 0, Round: 3, Channel: 3\n",
      "Added MIP\\S0_R3_C4.tif. Stage: 0, Round: 3, Channel: 4\n",
      "Added MIP\\S1_R3_C0.tif. Stage: 1, Round: 3, Channel: 0\n",
      "Added MIP\\S1_R3_C1.tif. Stage: 1, Round: 3, Channel: 1\n",
      "Added MIP\\S1_R3_C2.tif. Stage: 1, Round: 3, Channel: 2\n",
      "Added MIP\\S1_R3_C3.tif. Stage: 1, Round: 3, Channel: 3\n",
      "Added MIP\\S1_R3_C4.tif. Stage: 1, Round: 3, Channel: 4\n",
      "Added MIP\\S0_R4_C0.tif. Stage: 0, Round: 4, Channel: 0\n",
      "Added MIP\\S0_R4_C1.tif. Stage: 0, Round: 4, Channel: 1\n",
      "Added MIP\\S0_R4_C2.tif. Stage: 0, Round: 4, Channel: 2\n",
      "Added MIP\\S0_R4_C3.tif. Stage: 0, Round: 4, Channel: 3\n",
      "Added MIP\\S0_R4_C4.tif. Stage: 0, Round: 4, Channel: 4\n",
      "Added MIP\\S1_R4_C0.tif. Stage: 1, Round: 4, Channel: 0\n",
      "Added MIP\\S1_R4_C1.tif. Stage: 1, Round: 4, Channel: 1\n",
      "Added MIP\\S1_R4_C2.tif. Stage: 1, Round: 4, Channel: 2\n",
      "Added MIP\\S1_R4_C3.tif. Stage: 1, Round: 4, Channel: 3\n",
      "Added MIP\\S1_R4_C4.tif. Stage: 1, Round: 4, Channel: 4\n"
     ]
    },
    {
     "data": {
      "text/plain": [
       "<imaging_utils.ISSDataContainer at 0x191393c1bb0>"
      ]
     },
     "execution_count": 14,
     "metadata": {},
     "output_type": "execute_result"
    }
   ],
   "source": [
    "from imaging_utils import stitch_ashlar\n",
    "\n",
    "# First we load the miped data\n",
    "iss_data_miped = ISSDataContainer()\n",
    "iss_data_miped.add_images_from_filepattern(join('MIP','S{stage}_R{round}_C{channel}.tif'))\n"
   ]
  },
  {
   "cell_type": "markdown",
   "metadata": {},
   "source": [
    "To successfully register and stitch the image data, it's crucial to have access to the initial position of each stage in pixel coordinates. This information can typically be extracted from the microscope software."
   ]
  },
  {
   "cell_type": "code",
   "execution_count": 16,
   "metadata": {},
   "outputs": [
    {
     "name": "stdout",
     "output_type": "stream",
     "text": [
      "Stitching and registering input images\n",
      "Cycle 0:\n",
      "    reading filepattern|C:\\Users\\Axel\\AppData\\Local\\Temp\\tmphvfa4q7r\\round0|pattern=round0_r{row:1}_c{col:1}_ch{channel:1}.tif|overlap=0.1|pixel_size=1\n"
     ]
    },
    {
     "ename": "FileNotFoundError",
     "evalue": "[Errno 2] No such file or directory: 'C:\\\\Users\\\\Axel\\\\AppData\\\\Local\\\\Temp\\\\tmphvfa4q7r\\\\round0\\\\MIP\\\\S0_R0_C0.tif'",
     "output_type": "error",
     "traceback": [
      "\u001b[1;31m---------------------------------------------------------------------------\u001b[0m",
      "\u001b[1;31mFileNotFoundError\u001b[0m                         Traceback (most recent call last)",
      "\u001b[1;32mc:\\Users\\Axel\\Documents\\GitHub\\isstools\\tutorial.ipynb Cell 17\u001b[0m line \u001b[0;36m9\n\u001b[0;32m      <a href='vscode-notebook-cell:/c%3A/Users/Axel/Documents/GitHub/isstools/tutorial.ipynb#X22sZmlsZQ%3D%3D?line=1'>2</a>\u001b[0m stage_locations \u001b[39m=\u001b[39m {\n\u001b[0;32m      <a href='vscode-notebook-cell:/c%3A/Users/Axel/Documents/GitHub/isstools/tutorial.ipynb#X22sZmlsZQ%3D%3D?line=2'>3</a>\u001b[0m     \u001b[39m0\u001b[39m: (\u001b[39m0\u001b[39m, \u001b[39m0\u001b[39m), \n\u001b[0;32m      <a href='vscode-notebook-cell:/c%3A/Users/Axel/Documents/GitHub/isstools/tutorial.ipynb#X22sZmlsZQ%3D%3D?line=3'>4</a>\u001b[0m     \u001b[39m1\u001b[39m: (\u001b[39m0\u001b[39m, \u001b[39m1843\u001b[39m), \n\u001b[0;32m      <a href='vscode-notebook-cell:/c%3A/Users/Axel/Documents/GitHub/isstools/tutorial.ipynb#X22sZmlsZQ%3D%3D?line=4'>5</a>\u001b[0m }\n\u001b[0;32m      <a href='vscode-notebook-cell:/c%3A/Users/Axel/Documents/GitHub/isstools/tutorial.ipynb#X22sZmlsZQ%3D%3D?line=7'>8</a>\u001b[0m \u001b[39m# Stitch using ASHLAR\u001b[39;00m\n\u001b[1;32m----> <a href='vscode-notebook-cell:/c%3A/Users/Axel/Documents/GitHub/isstools/tutorial.ipynb#X22sZmlsZQ%3D%3D?line=8'>9</a>\u001b[0m stitch_ashlar(join(\u001b[39m'\u001b[39;49m\u001b[39mstitched\u001b[39;49m\u001b[39m'\u001b[39;49m,\u001b[39m'\u001b[39;49m\u001b[39mR\u001b[39;49m\u001b[39m{round}\u001b[39;49;00m\u001b[39m_C\u001b[39;49m\u001b[39m{channel}\u001b[39;49;00m\u001b[39m.tif\u001b[39;49m\u001b[39m'\u001b[39;49m), iss_data_miped, stage_locations, reference_channel\u001b[39m=\u001b[39;49m\u001b[39m4\u001b[39;49m)\n",
      "File \u001b[1;32mc:\\Users\\Axel\\Documents\\GitHub\\isstools\\imaging_utils.py:305\u001b[0m, in \u001b[0;36mstitch_ashlar\u001b[1;34m(output_filepattern, issdataset, stage_locations, reference_channel, maximum_shift, filter_sigma, verbose, overlap)\u001b[0m\n\u001b[0;32m    303\u001b[0m     aligner_args[\u001b[39m'\u001b[39m\u001b[39mfilter_sigma\u001b[39m\u001b[39m'\u001b[39m] \u001b[39m=\u001b[39m filter_sigma\n\u001b[0;32m    304\u001b[0m mosaic_path_format \u001b[39m=\u001b[39m \u001b[39mstr\u001b[39m(pathlib\u001b[39m.\u001b[39mPath(\u001b[39m'\u001b[39m\u001b[39m.\u001b[39m\u001b[39m'\u001b[39m) \u001b[39m/\u001b[39m output_filepattern\u001b[39m.\u001b[39mreplace(\u001b[39m'\u001b[39m\u001b[39m{round}\u001b[39;00m\u001b[39m'\u001b[39m, \u001b[39m'\u001b[39m\u001b[39m{cycle}\u001b[39;00m\u001b[39m'\u001b[39m))\n\u001b[1;32m--> 305\u001b[0m ashlar\u001b[39m.\u001b[39;49mprocess_single(\n\u001b[0;32m    306\u001b[0m             FILES, mosaic_path_format, flip_x\u001b[39m=\u001b[39;49m\u001b[39mFalse\u001b[39;49;00m, flip_y\u001b[39m=\u001b[39;49m\u001b[39mFalse\u001b[39;49;00m, \n\u001b[0;32m    307\u001b[0m             ffp_paths\u001b[39m=\u001b[39;49m\u001b[39mFalse\u001b[39;49;00m, dfp_paths\u001b[39m=\u001b[39;49m\u001b[39mFalse\u001b[39;49;00m, aligner_args\u001b[39m=\u001b[39;49maligner_args, mosaic_args\u001b[39m=\u001b[39;49m{}, \n\u001b[0;32m    308\u001b[0m             pyramid\u001b[39m=\u001b[39;49m\u001b[39mFalse\u001b[39;49;00m, quiet\u001b[39m=\u001b[39;49m\u001b[39mnot\u001b[39;49;00m verbose\n\u001b[0;32m    309\u001b[0m )\n\u001b[0;32m    311\u001b[0m \u001b[39m# Remove all symlinks\u001b[39;00m\n\u001b[0;32m    312\u001b[0m shutil\u001b[39m.\u001b[39mrmtree(temp_path)\n",
      "File \u001b[1;32mc:\\Users\\Axel\\anaconda3\\envs\\bioinformatics\\lib\\site-packages\\ashlar\\scripts\\ashlar.py:237\u001b[0m, in \u001b[0;36mprocess_single\u001b[1;34m(filepaths, output_path_format, flip_x, flip_y, ffp_paths, dfp_paths, aligner_args, mosaic_args, pyramid, quiet, plate_well)\u001b[0m\n\u001b[0;32m    235\u001b[0m     \u001b[39mprint\u001b[39m(\u001b[39m'\u001b[39m\u001b[39mCycle 0:\u001b[39m\u001b[39m'\u001b[39m)\n\u001b[0;32m    236\u001b[0m     \u001b[39mprint\u001b[39m(\u001b[39m'\u001b[39m\u001b[39m    reading \u001b[39m\u001b[39m%s\u001b[39;00m\u001b[39m'\u001b[39m \u001b[39m%\u001b[39m filepaths[\u001b[39m0\u001b[39m])\n\u001b[1;32m--> 237\u001b[0m reader \u001b[39m=\u001b[39m build_reader(filepaths[\u001b[39m0\u001b[39;49m], plate_well\u001b[39m=\u001b[39;49mplate_well)\n\u001b[0;32m    238\u001b[0m process_axis_flip(reader, flip_x, flip_y)\n\u001b[0;32m    239\u001b[0m ea_args \u001b[39m=\u001b[39m aligner_args\u001b[39m.\u001b[39mcopy()\n",
      "File \u001b[1;32mc:\\Users\\Axel\\anaconda3\\envs\\bioinformatics\\lib\\site-packages\\ashlar\\scripts\\ashlar.py:358\u001b[0m, in \u001b[0;36mbuild_reader\u001b[1;34m(path, plate_well)\u001b[0m\n\u001b[0;32m    353\u001b[0m         \u001b[39mraise\u001b[39;00m ProcessingError(\n\u001b[0;32m    354\u001b[0m             \u001b[39m\"\u001b[39m\u001b[39mThe \u001b[39m\u001b[39m%s\u001b[39;00m\u001b[39m reader does not support plate/well processing\u001b[39m\u001b[39m\"\u001b[39m\n\u001b[0;32m    355\u001b[0m             \u001b[39m%\u001b[39m reader_class\u001b[39m.\u001b[39m\u001b[39m__name__\u001b[39m\n\u001b[0;32m    356\u001b[0m         )\n\u001b[0;32m    357\u001b[0m     kwargs\u001b[39m.\u001b[39mupdate(plate\u001b[39m=\u001b[39mplate_well[\u001b[39m0\u001b[39m], well\u001b[39m=\u001b[39mplate_well[\u001b[39m1\u001b[39m])\n\u001b[1;32m--> 358\u001b[0m reader \u001b[39m=\u001b[39m reader_class(path, \u001b[39m*\u001b[39m\u001b[39m*\u001b[39mkwargs)\n\u001b[0;32m    359\u001b[0m \u001b[39mreturn\u001b[39;00m reader\n",
      "File \u001b[1;32mc:\\Users\\Axel\\anaconda3\\envs\\bioinformatics\\lib\\site-packages\\ashlar\\filepattern.py:110\u001b[0m, in \u001b[0;36mFilePatternReader.__init__\u001b[1;34m(self, path, pattern, overlap, pixel_size)\u001b[0m\n\u001b[0;32m    108\u001b[0m \u001b[39mself\u001b[39m\u001b[39m.\u001b[39mpattern \u001b[39m=\u001b[39m pattern\n\u001b[0;32m    109\u001b[0m \u001b[39mself\u001b[39m\u001b[39m.\u001b[39moverlap \u001b[39m=\u001b[39m overlap\n\u001b[1;32m--> 110\u001b[0m \u001b[39mself\u001b[39m\u001b[39m.\u001b[39mmetadata \u001b[39m=\u001b[39m FilePatternMetadata(\n\u001b[0;32m    111\u001b[0m     \u001b[39mself\u001b[39;49m\u001b[39m.\u001b[39;49mpath, \u001b[39mself\u001b[39;49m\u001b[39m.\u001b[39;49mpattern, overlap, pixel_size\n\u001b[0;32m    112\u001b[0m )\n",
      "File \u001b[1;32mc:\\Users\\Axel\\anaconda3\\envs\\bioinformatics\\lib\\site-packages\\ashlar\\filepattern.py:28\u001b[0m, in \u001b[0;36mFilePatternMetadata.__init__\u001b[1;34m(self, path, pattern, overlap, pixel_size)\u001b[0m\n\u001b[0;32m     26\u001b[0m \u001b[39mself\u001b[39m\u001b[39m.\u001b[39moverlap \u001b[39m=\u001b[39m overlap\n\u001b[0;32m     27\u001b[0m \u001b[39mself\u001b[39m\u001b[39m.\u001b[39m_pixel_size \u001b[39m=\u001b[39m pixel_size\n\u001b[1;32m---> 28\u001b[0m \u001b[39mself\u001b[39;49m\u001b[39m.\u001b[39;49m_enumerate_tiles()\n",
      "File \u001b[1;32mc:\\Users\\Axel\\anaconda3\\envs\\bioinformatics\\lib\\site-packages\\ashlar\\filepattern.py:59\u001b[0m, in \u001b[0;36mFilePatternMetadata._enumerate_tiles\u001b[1;34m(self)\u001b[0m\n\u001b[0;32m     54\u001b[0m \u001b[39mself\u001b[39m\u001b[39m.\u001b[39mcol_offset \u001b[39m=\u001b[39m \u001b[39mmin\u001b[39m(cols)\n\u001b[0;32m     55\u001b[0m path \u001b[39m=\u001b[39m \u001b[39mself\u001b[39m\u001b[39m.\u001b[39mpath \u001b[39m/\u001b[39m \u001b[39mself\u001b[39m\u001b[39m.\u001b[39mpattern\u001b[39m.\u001b[39mformat(\n\u001b[0;32m     56\u001b[0m     row\u001b[39m=\u001b[39m\u001b[39mself\u001b[39m\u001b[39m.\u001b[39mrow_offset, col\u001b[39m=\u001b[39m\u001b[39mself\u001b[39m\u001b[39m.\u001b[39mcol_offset,\n\u001b[0;32m     57\u001b[0m     channel\u001b[39m=\u001b[39m\u001b[39mself\u001b[39m\u001b[39m.\u001b[39mchannel_map[\u001b[39m0\u001b[39m]\n\u001b[0;32m     58\u001b[0m )\n\u001b[1;32m---> 59\u001b[0m img \u001b[39m=\u001b[39m skimage\u001b[39m.\u001b[39;49mio\u001b[39m.\u001b[39;49mimread(\u001b[39mstr\u001b[39;49m(path))\n\u001b[0;32m     60\u001b[0m \u001b[39mif\u001b[39;00m img\u001b[39m.\u001b[39mndim \u001b[39mnot\u001b[39;00m \u001b[39min\u001b[39;00m (\u001b[39m2\u001b[39m, \u001b[39m3\u001b[39m):\n\u001b[0;32m     61\u001b[0m     \u001b[39mraise\u001b[39;00m \u001b[39mException\u001b[39;00m(\u001b[39mf\u001b[39m\u001b[39m\"\u001b[39m\u001b[39mImage must have 2 or 3 dimensions: \u001b[39m\u001b[39m{\u001b[39;00mpath\u001b[39m}\u001b[39;00m\u001b[39m\"\u001b[39m)\n",
      "File \u001b[1;32mc:\\Users\\Axel\\anaconda3\\envs\\bioinformatics\\lib\\site-packages\\skimage\\io\\_io.py:53\u001b[0m, in \u001b[0;36mimread\u001b[1;34m(fname, as_gray, plugin, **plugin_args)\u001b[0m\n\u001b[0;32m     50\u001b[0m         plugin \u001b[39m=\u001b[39m \u001b[39m'\u001b[39m\u001b[39mtifffile\u001b[39m\u001b[39m'\u001b[39m\n\u001b[0;32m     52\u001b[0m \u001b[39mwith\u001b[39;00m file_or_url_context(fname) \u001b[39mas\u001b[39;00m fname:\n\u001b[1;32m---> 53\u001b[0m     img \u001b[39m=\u001b[39m call_plugin(\u001b[39m'\u001b[39m\u001b[39mimread\u001b[39m\u001b[39m'\u001b[39m, fname, plugin\u001b[39m=\u001b[39mplugin, \u001b[39m*\u001b[39m\u001b[39m*\u001b[39mplugin_args)\n\u001b[0;32m     55\u001b[0m \u001b[39mif\u001b[39;00m \u001b[39mnot\u001b[39;00m \u001b[39mhasattr\u001b[39m(img, \u001b[39m'\u001b[39m\u001b[39mndim\u001b[39m\u001b[39m'\u001b[39m):\n\u001b[0;32m     56\u001b[0m     \u001b[39mreturn\u001b[39;00m img\n",
      "File \u001b[1;32mc:\\Users\\Axel\\anaconda3\\envs\\bioinformatics\\lib\\site-packages\\skimage\\io\\manage_plugins.py:207\u001b[0m, in \u001b[0;36mcall_plugin\u001b[1;34m(kind, *args, **kwargs)\u001b[0m\n\u001b[0;32m    203\u001b[0m     \u001b[39mexcept\u001b[39;00m \u001b[39mIndexError\u001b[39;00m:\n\u001b[0;32m    204\u001b[0m         \u001b[39mraise\u001b[39;00m \u001b[39mRuntimeError\u001b[39;00m(\u001b[39m'\u001b[39m\u001b[39mCould not find the plugin \u001b[39m\u001b[39m\"\u001b[39m\u001b[39m%s\u001b[39;00m\u001b[39m\"\u001b[39m\u001b[39m for \u001b[39m\u001b[39m%s\u001b[39;00m\u001b[39m.\u001b[39m\u001b[39m'\u001b[39m \u001b[39m%\u001b[39m\n\u001b[0;32m    205\u001b[0m                            (plugin, kind))\n\u001b[1;32m--> 207\u001b[0m \u001b[39mreturn\u001b[39;00m func(\u001b[39m*\u001b[39margs, \u001b[39m*\u001b[39m\u001b[39m*\u001b[39mkwargs)\n",
      "File \u001b[1;32mc:\\Users\\Axel\\anaconda3\\envs\\bioinformatics\\lib\\site-packages\\skimage\\io\\_plugins\\tifffile_plugin.py:30\u001b[0m, in \u001b[0;36mimread\u001b[1;34m(fname, **kwargs)\u001b[0m\n\u001b[0;32m     27\u001b[0m \u001b[39mif\u001b[39;00m \u001b[39m'\u001b[39m\u001b[39mimg_num\u001b[39m\u001b[39m'\u001b[39m \u001b[39min\u001b[39;00m kwargs:\n\u001b[0;32m     28\u001b[0m     kwargs[\u001b[39m'\u001b[39m\u001b[39mkey\u001b[39m\u001b[39m'\u001b[39m] \u001b[39m=\u001b[39m kwargs\u001b[39m.\u001b[39mpop(\u001b[39m'\u001b[39m\u001b[39mimg_num\u001b[39m\u001b[39m'\u001b[39m)\n\u001b[1;32m---> 30\u001b[0m \u001b[39mreturn\u001b[39;00m tifffile_imread(fname, \u001b[39m*\u001b[39m\u001b[39m*\u001b[39mkwargs)\n",
      "File \u001b[1;32mc:\\Users\\Axel\\anaconda3\\envs\\bioinformatics\\lib\\site-packages\\tifffile\\tifffile.py:971\u001b[0m, in \u001b[0;36mimread\u001b[1;34m(files, aszarr, key, series, level, squeeze, maxworkers, mode, name, offset, size, pattern, axesorder, categories, imread, sort, container, axestiled, ioworkers, chunkmode, fillvalue, zattrs, multiscales, omexml, out, _multifile, _useframes, **kwargs)\u001b[0m\n\u001b[0;32m    966\u001b[0m     files \u001b[39m=\u001b[39m files[\u001b[39m0\u001b[39m]\n\u001b[0;32m    968\u001b[0m \u001b[39mif\u001b[39;00m \u001b[39misinstance\u001b[39m(files, \u001b[39mstr\u001b[39m) \u001b[39mor\u001b[39;00m \u001b[39mnot\u001b[39;00m \u001b[39misinstance\u001b[39m(\n\u001b[0;32m    969\u001b[0m     files, collections\u001b[39m.\u001b[39mabc\u001b[39m.\u001b[39mSequence\n\u001b[0;32m    970\u001b[0m ):\n\u001b[1;32m--> 971\u001b[0m     \u001b[39mwith\u001b[39;00m TiffFile(\n\u001b[0;32m    972\u001b[0m         files,\n\u001b[0;32m    973\u001b[0m         mode\u001b[39m=\u001b[39mmode,\n\u001b[0;32m    974\u001b[0m         name\u001b[39m=\u001b[39mname,\n\u001b[0;32m    975\u001b[0m         offset\u001b[39m=\u001b[39moffset,\n\u001b[0;32m    976\u001b[0m         size\u001b[39m=\u001b[39msize,\n\u001b[0;32m    977\u001b[0m         omexml\u001b[39m=\u001b[39momexml,\n\u001b[0;32m    978\u001b[0m         _multifile\u001b[39m=\u001b[39m_multifile,\n\u001b[0;32m    979\u001b[0m         _useframes\u001b[39m=\u001b[39m_useframes,\n\u001b[0;32m    980\u001b[0m         \u001b[39m*\u001b[39m\u001b[39m*\u001b[39mis_flags,\n\u001b[0;32m    981\u001b[0m     ) \u001b[39mas\u001b[39;00m tif:\n\u001b[0;32m    982\u001b[0m         \u001b[39mif\u001b[39;00m aszarr:\n\u001b[0;32m    983\u001b[0m             \u001b[39massert\u001b[39;00m key \u001b[39mis\u001b[39;00m \u001b[39mNone\u001b[39;00m \u001b[39mor\u001b[39;00m \u001b[39misinstance\u001b[39m(key, \u001b[39mint\u001b[39m)\n",
      "File \u001b[1;32mc:\\Users\\Axel\\anaconda3\\envs\\bioinformatics\\lib\\site-packages\\tifffile\\tifffile.py:3781\u001b[0m, in \u001b[0;36mTiffFile.__init__\u001b[1;34m(self, file, mode, name, offset, size, omexml, _multifile, _useframes, _parent, **is_flags)\u001b[0m\n\u001b[0;32m   3778\u001b[0m \u001b[39mif\u001b[39;00m mode \u001b[39mnot\u001b[39;00m \u001b[39min\u001b[39;00m (\u001b[39mNone\u001b[39;00m, \u001b[39m'\u001b[39m\u001b[39mr\u001b[39m\u001b[39m'\u001b[39m, \u001b[39m'\u001b[39m\u001b[39mr+\u001b[39m\u001b[39m'\u001b[39m, \u001b[39m'\u001b[39m\u001b[39mrb\u001b[39m\u001b[39m'\u001b[39m, \u001b[39m'\u001b[39m\u001b[39mr+b\u001b[39m\u001b[39m'\u001b[39m):\n\u001b[0;32m   3779\u001b[0m     \u001b[39mraise\u001b[39;00m \u001b[39mValueError\u001b[39;00m(\u001b[39mf\u001b[39m\u001b[39m'\u001b[39m\u001b[39minvalid mode \u001b[39m\u001b[39m{\u001b[39;00mmode\u001b[39m!r}\u001b[39;00m\u001b[39m'\u001b[39m)\n\u001b[1;32m-> 3781\u001b[0m fh \u001b[39m=\u001b[39m FileHandle(file, mode\u001b[39m=\u001b[39;49mmode, name\u001b[39m=\u001b[39;49mname, offset\u001b[39m=\u001b[39;49moffset, size\u001b[39m=\u001b[39;49msize)\n\u001b[0;32m   3782\u001b[0m \u001b[39mself\u001b[39m\u001b[39m.\u001b[39m_fh \u001b[39m=\u001b[39m fh\n\u001b[0;32m   3783\u001b[0m \u001b[39mself\u001b[39m\u001b[39m.\u001b[39m_multifile \u001b[39m=\u001b[39m \u001b[39mTrue\u001b[39;00m \u001b[39mif\u001b[39;00m _multifile \u001b[39mis\u001b[39;00m \u001b[39mNone\u001b[39;00m \u001b[39melse\u001b[39;00m \u001b[39mbool\u001b[39m(_multifile)\n",
      "File \u001b[1;32mc:\\Users\\Axel\\anaconda3\\envs\\bioinformatics\\lib\\site-packages\\tifffile\\tifffile.py:13023\u001b[0m, in \u001b[0;36mFileHandle.__init__\u001b[1;34m(self, file, mode, name, offset, size)\u001b[0m\n\u001b[0;32m  13021\u001b[0m \u001b[39mself\u001b[39m\u001b[39m.\u001b[39m_close \u001b[39m=\u001b[39m \u001b[39mTrue\u001b[39;00m\n\u001b[0;32m  13022\u001b[0m \u001b[39mself\u001b[39m\u001b[39m.\u001b[39m_lock \u001b[39m=\u001b[39m NullContext()\n\u001b[1;32m> 13023\u001b[0m \u001b[39mself\u001b[39;49m\u001b[39m.\u001b[39;49mopen()\n\u001b[0;32m  13024\u001b[0m \u001b[39massert\u001b[39;00m \u001b[39mself\u001b[39m\u001b[39m.\u001b[39m_fh \u001b[39mis\u001b[39;00m \u001b[39mnot\u001b[39;00m \u001b[39mNone\u001b[39;00m\n",
      "File \u001b[1;32mc:\\Users\\Axel\\anaconda3\\envs\\bioinformatics\\lib\\site-packages\\tifffile\\tifffile.py:13038\u001b[0m, in \u001b[0;36mFileHandle.open\u001b[1;34m(self)\u001b[0m\n\u001b[0;32m  13036\u001b[0m \u001b[39mself\u001b[39m\u001b[39m.\u001b[39m_file \u001b[39m=\u001b[39m os\u001b[39m.\u001b[39mpath\u001b[39m.\u001b[39mrealpath(\u001b[39mself\u001b[39m\u001b[39m.\u001b[39m_file)\n\u001b[0;32m  13037\u001b[0m \u001b[39mself\u001b[39m\u001b[39m.\u001b[39m_dir, \u001b[39mself\u001b[39m\u001b[39m.\u001b[39m_name \u001b[39m=\u001b[39m os\u001b[39m.\u001b[39mpath\u001b[39m.\u001b[39msplit(\u001b[39mself\u001b[39m\u001b[39m.\u001b[39m_file)\n\u001b[1;32m> 13038\u001b[0m \u001b[39mself\u001b[39m\u001b[39m.\u001b[39m_fh \u001b[39m=\u001b[39m \u001b[39mopen\u001b[39;49m(\u001b[39mself\u001b[39;49m\u001b[39m.\u001b[39;49m_file, \u001b[39mself\u001b[39;49m\u001b[39m.\u001b[39;49m_mode)  \u001b[39m# type: ignore\u001b[39;00m\n\u001b[0;32m  13039\u001b[0m \u001b[39mself\u001b[39m\u001b[39m.\u001b[39m_close \u001b[39m=\u001b[39m \u001b[39mTrue\u001b[39;00m\n\u001b[0;32m  13040\u001b[0m \u001b[39mif\u001b[39;00m \u001b[39mself\u001b[39m\u001b[39m.\u001b[39m_offset \u001b[39m<\u001b[39m \u001b[39m0\u001b[39m:\n",
      "\u001b[1;31mFileNotFoundError\u001b[0m: [Errno 2] No such file or directory: 'C:\\\\Users\\\\Axel\\\\AppData\\\\Local\\\\Temp\\\\tmphvfa4q7r\\\\round0\\\\MIP\\\\S0_R0_C0.tif'"
     ]
    }
   ],
   "source": [
    "from imaging_utils import stitch_ashlar\n",
    "stage_locations = {\n",
    "    0: (0, 0), \n",
    "    1: (0, 1843), \n",
    "}\n",
    "\n",
    "# Stitch using ASHLAR\n",
    "stitch_ashlar(join('stitched','R{round}_C{channel}.tif'), iss_data_miped, stage_locations, reference_channel=4)"
   ]
  },
  {
   "cell_type": "markdown",
   "metadata": {},
   "source": [
    "### Step 4. Decoding\n",
    "\n",
    "In this step, we will proceed to decode the previously stitched image data."
   ]
  },
  {
   "cell_type": "code",
   "execution_count": 4,
   "metadata": {},
   "outputs": [
    {
     "data": {
      "text/plain": [
       "{'stage_locations': {0: (0, 0), 1: (0, 1843)},\n",
       " 'codebook': {'DVL2': {'round_index': [0, 1, 2, 3, 4],\n",
       "   'channel_index': [0, 3, 2, 1, 0]},\n",
       "  'MLXIPL': {'round_index': [0, 1, 2, 3, 4], 'channel_index': [3, 0, 2, 1, 0]},\n",
       "  'CDH1': {'round_index': [0, 1, 2, 3, 4], 'channel_index': [2, 1, 2, 2, 3]},\n",
       "  'MXD1': {'round_index': [0, 1, 2, 3, 4], 'channel_index': [1, 2, 2, 2, 3]},\n",
       "  'CDON': {'round_index': [0, 1, 2, 3, 4], 'channel_index': [0, 2, 3, 1, 0]},\n",
       "  'TIE1': {'round_index': [0, 1, 2, 3, 4], 'channel_index': [3, 1, 3, 1, 0]},\n",
       "  'RHOA': {'round_index': [0, 1, 2, 3, 4], 'channel_index': [2, 0, 3, 1, 0]},\n",
       "  'PRKCZ': {'round_index': [0, 1, 2, 3, 4], 'channel_index': [1, 3, 3, 1, 0]},\n",
       "  'MNT': {'round_index': [0, 1, 2, 3, 4], 'channel_index': [0, 1, 0, 1, 0]},\n",
       "  'CAMK2A': {'round_index': [0, 1, 2, 3, 4], 'channel_index': [3, 2, 0, 1, 0]},\n",
       "  'CDC42': {'round_index': [0, 1, 2, 3, 4], 'channel_index': [2, 3, 0, 1, 0]},\n",
       "  'GLI2': {'round_index': [0, 1, 2, 3, 4], 'channel_index': [1, 0, 0, 1, 0]},\n",
       "  'ITGA8': {'round_index': [0, 1, 2, 3, 4], 'channel_index': [0, 0, 1, 1, 0]},\n",
       "  'GSK3B': {'round_index': [0, 1, 2, 3, 4], 'channel_index': [3, 3, 1, 1, 0]},\n",
       "  'WNT11': {'round_index': [0, 1, 2, 3, 4], 'channel_index': [2, 2, 1, 2, 3]},\n",
       "  'MMP2': {'round_index': [0, 1, 2, 3, 4], 'channel_index': [3, 1, 1, 3, 0]},\n",
       "  'GGT5': {'round_index': [0, 1, 2, 3, 4], 'channel_index': [2, 3, 1, 0, 0]},\n",
       "  'NFATC4': {'round_index': [0, 1, 2, 3, 4], 'channel_index': [0, 2, 0, 2, 0]},\n",
       "  'MSLN': {'round_index': [0, 1, 2, 3, 4], 'channel_index': [1, 2, 1, 1, 3]},\n",
       "  'AXIN1': {'round_index': [0, 1, 2, 3, 4], 'channel_index': [2, 0, 1, 3, 0]},\n",
       "  'FOXF1': {'round_index': [0, 1, 2, 3, 4], 'channel_index': [2, 3, 3, 2, 0]},\n",
       "  'GSPT1': {'round_index': [0, 1, 2, 3, 4], 'channel_index': [3, 2, 2, 3, 0]},\n",
       "  'DKK4': {'round_index': [0, 1, 2, 3, 4], 'channel_index': [2, 1, 0, 3, 0]},\n",
       "  'GSK3A': {'round_index': [0, 1, 2, 3, 4], 'channel_index': [3, 3, 0, 3, 0]},\n",
       "  'CDK6': {'round_index': [0, 1, 2, 3, 4], 'channel_index': [3, 0, 3, 3, 0]},\n",
       "  'WNT2': {'round_index': [0, 1, 2, 3, 4], 'channel_index': [1, 0, 1, 0, 0]},\n",
       "  'SFRP4': {'round_index': [0, 1, 2, 3, 4], 'channel_index': [3, 2, 3, 2, 0]},\n",
       "  'GLI3': {'round_index': [0, 1, 2, 3, 4], 'channel_index': [0, 0, 0, 3, 0]},\n",
       "  'ENG': {'round_index': [0, 1, 2, 3, 4], 'channel_index': [1, 1, 0, 0, 0]},\n",
       "  'DVL1': {'round_index': [0, 1, 2, 3, 4], 'channel_index': [0, 0, 3, 0, 0]},\n",
       "  'DKK1': {'round_index': [0, 1, 2, 3, 4], 'channel_index': [0, 1, 1, 0, 0]},\n",
       "  'MLX': {'round_index': [0, 1, 2, 3, 4], 'channel_index': [2, 0, 0, 2, 0]},\n",
       "  'MAPK10': {'round_index': [0, 1, 2, 3, 4], 'channel_index': [2, 2, 3, 3, 0]},\n",
       "  'VWF': {'round_index': [0, 1, 2, 3, 4], 'channel_index': [0, 3, 0, 0, 0]},\n",
       "  'GLI1': {'round_index': [0, 1, 2, 3, 4], 'channel_index': [1, 3, 0, 2, 0]},\n",
       "  'WNT5B': {'round_index': [0, 1, 2, 3, 4], 'channel_index': [1, 0, 2, 3, 0]},\n",
       "  'ARPC3': {'round_index': [0, 1, 2, 3, 4], 'channel_index': [2, 3, 2, 3, 0]},\n",
       "  'VEGFA': {'round_index': [0, 1, 2, 3, 4], 'channel_index': [0, 2, 1, 3, 0]},\n",
       "  'CSNK1A1': {'round_index': [0, 1, 2, 3, 4],\n",
       "   'channel_index': [1, 3, 1, 3, 0]},\n",
       "  'WNT5A': {'round_index': [0, 1, 2, 3, 4], 'channel_index': [1, 1, 2, 1, 3]},\n",
       "  'MYCL': {'round_index': [0, 1, 2, 3, 4], 'channel_index': [1, 3, 2, 0, 0]},\n",
       "  'PTCH2': {'round_index': [0, 1, 2, 3, 4], 'channel_index': [2, 1, 3, 0, 0]},\n",
       "  'MXI1': {'round_index': [0, 1, 2, 3, 4], 'channel_index': [1, 1, 1, 2, 3]},\n",
       "  'TEK': {'round_index': [0, 1, 2, 3, 4], 'channel_index': [3, 0, 1, 2, 0]},\n",
       "  'MYCT1': {'round_index': [0, 1, 2, 3, 4], 'channel_index': [2, 1, 1, 1, 3]},\n",
       "  'TBX2': {'round_index': [0, 1, 2, 3, 4], 'channel_index': [0, 2, 2, 0, 0]},\n",
       "  'MXD4': {'round_index': [0, 1, 2, 3, 4], 'channel_index': [2, 2, 2, 1, 3]},\n",
       "  'CD93': {'round_index': [0, 1, 2, 3, 4], 'channel_index': [1, 2, 0, 3, 0]},\n",
       "  'MAX': {'round_index': [0, 1, 2, 3, 4], 'channel_index': [0, 1, 2, 3, 0]},\n",
       "  'EIF2S2': {'round_index': [0, 1, 2, 3, 4], 'channel_index': [0, 3, 3, 3, 0]},\n",
       "  'RHOJ': {'round_index': [0, 1, 2, 3, 4], 'channel_index': [0, 0, 2, 2, 0]},\n",
       "  'PTPRB': {'round_index': [0, 1, 2, 3, 4], 'channel_index': [3, 2, 1, 0, 0]},\n",
       "  'KDR': {'round_index': [0, 1, 2, 3, 4], 'channel_index': [3, 1, 0, 2, 0]},\n",
       "  'ADAMDEC1': {'round_index': [0, 1, 2, 3, 4],\n",
       "   'channel_index': [3, 0, 0, 0, 0]},\n",
       "  'WNT2B': {'round_index': [0, 1, 2, 3, 4], 'channel_index': [3, 3, 2, 2, 0]},\n",
       "  'MYCN': {'round_index': [0, 1, 2, 3, 4], 'channel_index': [1, 1, 3, 3, 0]},\n",
       "  'APC': {'round_index': [0, 1, 2, 3, 4], 'channel_index': [0, 3, 1, 2, 0]},\n",
       "  'RAC1': {'round_index': [0, 1, 2, 3, 4], 'channel_index': [3, 3, 3, 0, 0]},\n",
       "  'MYC': {'round_index': [0, 1, 2, 3, 4], 'channel_index': [3, 1, 2, 0, 0]},\n",
       "  'TLN1': {'round_index': [0, 1, 2, 3, 4], 'channel_index': [1, 2, 3, 0, 0]},\n",
       "  'FOXF2': {'round_index': [0, 1, 2, 3, 4], 'channel_index': [2, 2, 0, 0, 0]},\n",
       "  'LEF1': {'round_index': [0, 1, 2, 3, 4], 'channel_index': [2, 0, 2, 0, 0]},\n",
       "  'PRICKLE1': {'round_index': [0, 1, 2, 3, 4],\n",
       "   'channel_index': [0, 1, 3, 2, 0]},\n",
       "  'LGR5': {'round_index': [0, 1, 2, 3, 4], 'channel_index': [1, 0, 3, 2, 0]},\n",
       "  'SFRP2': {'round_index': [0, 1, 2, 3, 4], 'channel_index': [1, 0, 3, 1, 3]},\n",
       "  'PDGFC': {'round_index': [0, 1, 2, 3, 4], 'channel_index': [3, 3, 3, 3, 2]},\n",
       "  'RSPO1': {'round_index': [0, 1, 2, 3, 4], 'channel_index': [3, 1, 2, 2, 2]},\n",
       "  'RSPO2': {'round_index': [0, 1, 2, 3, 4], 'channel_index': [1, 1, 3, 0, 3]},\n",
       "  'RSPO3': {'round_index': [0, 1, 2, 3, 4], 'channel_index': [1, 0, 1, 3, 3]},\n",
       "  'CAMK2G': {'round_index': [0, 1, 2, 3, 4], 'channel_index': [2, 1, 3, 1, 1]},\n",
       "  'ESAM': {'round_index': [0, 1, 2, 3, 4], 'channel_index': [0, 1, 1, 3, 3]},\n",
       "  'PLCB3': {'round_index': [0, 1, 2, 3, 4], 'channel_index': [3, 3, 0, 2, 2]},\n",
       "  'SPARCL1': {'round_index': [0, 1, 2, 3, 4],\n",
       "   'channel_index': [3, 1, 1, 2, 1]},\n",
       "  'ROBO4': {'round_index': [0, 1, 2, 3, 4], 'channel_index': [0, 3, 0, 1, 2]},\n",
       "  'PRKCA': {'round_index': [0, 1, 2, 3, 4], 'channel_index': [0, 2, 3, 2, 3]},\n",
       "  'FZD1': {'round_index': [0, 1, 2, 3, 4], 'channel_index': [2, 2, 3, 1, 2]},\n",
       "  'CALM3': {'round_index': [0, 1, 2, 3, 4], 'channel_index': [3, 3, 0, 0, 3]},\n",
       "  'DVL3': {'round_index': [0, 1, 2, 3, 4], 'channel_index': [0, 2, 0, 0, 2]},\n",
       "  'ARPC2': {'round_index': [0, 1, 2, 3, 4], 'channel_index': [0, 2, 2, 2, 2]},\n",
       "  'IHH': {'round_index': [0, 1, 2, 3, 4], 'channel_index': [2, 0, 0, 0, 2]},\n",
       "  'PRICKLE2': {'round_index': [0, 1, 2, 3, 4],\n",
       "   'channel_index': [0, 0, 1, 2, 3]},\n",
       "  'PRKCD': {'round_index': [0, 1, 2, 3, 4], 'channel_index': [3, 0, 2, 2, 3]},\n",
       "  'EMCN': {'round_index': [0, 1, 2, 3, 4], 'channel_index': [0, 1, 0, 0, 1]},\n",
       "  'HHIP': {'round_index': [0, 1, 2, 3, 4], 'channel_index': [2, 3, 1, 2, 2]},\n",
       "  'FZD6': {'round_index': [0, 1, 2, 3, 4], 'channel_index': [1, 0, 1, 1, 1]},\n",
       "  'CTHRC1': {'round_index': [0, 1, 2, 3, 4], 'channel_index': [2, 1, 0, 2, 1]},\n",
       "  'FRAT1': {'round_index': [0, 1, 2, 3, 4], 'channel_index': [1, 1, 0, 2, 2]},\n",
       "  'PRKCB': {'round_index': [0, 1, 2, 3, 4], 'channel_index': [0, 3, 0, 2, 1]},\n",
       "  'GREM1': {'round_index': [0, 1, 2, 3, 4], 'channel_index': [0, 0, 0, 2, 2]},\n",
       "  'CTNNB1': {'round_index': [0, 1, 2, 3, 4], 'channel_index': [2, 1, 1, 0, 2]},\n",
       "  'AXIN2': {'round_index': [0, 1, 2, 3, 4], 'channel_index': [0, 1, 3, 1, 3]},\n",
       "  'PTK2': {'round_index': [0, 1, 2, 3, 4], 'channel_index': [3, 0, 2, 3, 2]},\n",
       "  'LDB2': {'round_index': [0, 1, 2, 3, 4], 'channel_index': [2, 1, 2, 1, 0]},\n",
       "  'WNT10B': {'round_index': [0, 1, 2, 3, 4], 'channel_index': [2, 3, 0, 2, 3]},\n",
       "  'S1PR1': {'round_index': [0, 1, 2, 3, 4], 'channel_index': [3, 3, 0, 1, 1]},\n",
       "  'SLC19A1': {'round_index': [0, 1, 2, 3, 4],\n",
       "   'channel_index': [3, 2, 1, 1, 1]},\n",
       "  'MGA': {'round_index': [0, 1, 2, 3, 4], 'channel_index': [1, 1, 1, 0, 1]},\n",
       "  'FZD4': {'round_index': [0, 1, 2, 3, 4], 'channel_index': [2, 2, 0, 1, 1]},\n",
       "  'MLXIP': {'round_index': [0, 1, 2, 3, 4], 'channel_index': [1, 0, 2, 0, 3]},\n",
       "  'CLEC14A': {'round_index': [0, 1, 2, 3, 4],\n",
       "   'channel_index': [0, 2, 2, 3, 3]},\n",
       "  'FOXL1': {'round_index': [0, 1, 2, 3, 4], 'channel_index': [1, 1, 3, 1, 2]},\n",
       "  'THBD': {'round_index': [0, 1, 2, 3, 4], 'channel_index': [2, 3, 0, 0, 1]},\n",
       "  'CDH5': {'round_index': [0, 1, 2, 3, 4], 'channel_index': [2, 3, 1, 1, 1]},\n",
       "  'FAM162B': {'round_index': [0, 1, 2, 3, 4],\n",
       "   'channel_index': [2, 0, 1, 0, 3]},\n",
       "  'NOC4L': {'round_index': [0, 1, 2, 3, 4], 'channel_index': [2, 0, 2, 2, 2]},\n",
       "  'PTCH1': {'round_index': [0, 1, 2, 3, 4], 'channel_index': [1, 2, 3, 2, 2]},\n",
       "  'FZD9': {'round_index': [0, 1, 2, 3, 4], 'channel_index': [1, 3, 1, 0, 3]},\n",
       "  'SF3B3': {'round_index': [0, 1, 2, 3, 4], 'channel_index': [2, 0, 0, 1, 3]},\n",
       "  'LAMA2': {'round_index': [0, 1, 2, 3, 4], 'channel_index': [1, 2, 3, 1, 1]},\n",
       "  'SERPINB2': {'round_index': [0, 1, 2, 3, 4],\n",
       "   'channel_index': [0, 3, 2, 0, 1]},\n",
       "  'L1CAM': {'round_index': [0, 1, 2, 3, 4], 'channel_index': [1, 1, 3, 2, 1]},\n",
       "  'GPX3': {'round_index': [0, 1, 2, 3, 4], 'channel_index': [2, 2, 0, 3, 3]},\n",
       "  'MXD3': {'round_index': [0, 1, 2, 3, 4], 'channel_index': [0, 2, 1, 1, 2]},\n",
       "  'ECSCR': {'round_index': [0, 1, 2, 3, 4], 'channel_index': [0, 0, 2, 1, 3]},\n",
       "  'CDH7': {'round_index': [0, 1, 2, 3, 4], 'channel_index': [1, 0, 0, 2, 3]},\n",
       "  'NOG': {'round_index': [0, 1, 2, 3, 4], 'channel_index': [3, 1, 2, 1, 1]},\n",
       "  'BMP3B': {'round_index': [0, 1, 2, 3, 4], 'channel_index': [1, 1, 1, 1, 0]},\n",
       "  'ELTD1': {'round_index': [0, 1, 2, 3, 4], 'channel_index': [2, 3, 2, 0, 3]},\n",
       "  'GPR116': {'round_index': [0, 1, 2, 3, 4], 'channel_index': [1, 2, 0, 0, 3]},\n",
       "  'FWE1': {'round_index': [0, 1, 2, 3, 4], 'channel_index': [0, 1, 3, 0, 2]},\n",
       "  'FWE2': {'round_index': [0, 1, 2, 3, 4], 'channel_index': [2, 2, 2, 2, 0]},\n",
       "  'FWE3': {'round_index': [0, 1, 2, 3, 4], 'channel_index': [3, 1, 0, 1, 3]},\n",
       "  'FWE4': {'round_index': [0, 1, 2, 3, 4], 'channel_index': [2, 1, 0, 0, 3]},\n",
       "  'CD31': {'round_index': [0, 1, 2, 3, 4], 'channel_index': [0, 0, 2, 0, 2]},\n",
       "  'LYVE-1': {'round_index': [0, 1, 2, 3, 4], 'channel_index': [1, 2, 0, 2, 1]},\n",
       "  'PODOPLANIN': {'round_index': [0, 1, 2, 3, 4],\n",
       "   'channel_index': [2, 2, 2, 3, 1]},\n",
       "  'ALBUMIN': {'round_index': [0, 1, 2, 3, 4],\n",
       "   'channel_index': [3, 0, 2, 0, 1]},\n",
       "  'CPS1': {'round_index': [0, 1, 2, 3, 4], 'channel_index': [1, 2, 1, 0, 2]},\n",
       "  'CD20': {'round_index': [0, 1, 2, 3, 4], 'channel_index': [2, 1, 3, 2, 2]},\n",
       "  'MCAM': {'round_index': [0, 1, 2, 3, 4], 'channel_index': [3, 2, 3, 0, 2]},\n",
       "  'TBX18': {'round_index': [0, 1, 2, 3, 4], 'channel_index': [0, 2, 1, 0, 3]},\n",
       "  'ITGB3': {'round_index': [0, 1, 2, 3, 4], 'channel_index': [0, 3, 1, 1, 3]},\n",
       "  'DES': {'round_index': [0, 1, 2, 3, 4], 'channel_index': [3, 0, 1, 1, 3]},\n",
       "  'CD45': {'round_index': [0, 1, 2, 3, 4], 'channel_index': [1, 0, 3, 0, 2]},\n",
       "  'POSTN': {'round_index': [0, 1, 2, 3, 4], 'channel_index': [0, 1, 0, 2, 3]},\n",
       "  'PDPN': {'round_index': [0, 1, 2, 3, 4], 'channel_index': [3, 2, 0, 0, 1]},\n",
       "  'SPP1': {'round_index': [0, 1, 2, 3, 4], 'channel_index': [1, 1, 2, 3, 1]},\n",
       "  'CALD1': {'round_index': [0, 1, 2, 3, 4], 'channel_index': [3, 0, 3, 0, 3]},\n",
       "  'IGFBP7': {'round_index': [0, 1, 2, 3, 4], 'channel_index': [0, 3, 3, 2, 2]},\n",
       "  'COLIVA1': {'round_index': [0, 1, 2, 3, 4],\n",
       "   'channel_index': [0, 0, 2, 3, 1]},\n",
       "  'CD29': {'round_index': [0, 1, 2, 3, 4], 'channel_index': [0, 1, 1, 1, 1]},\n",
       "  'CAV1': {'round_index': [0, 1, 2, 3, 4], 'channel_index': [2, 0, 3, 0, 1]},\n",
       "  'NGFR': {'round_index': [0, 1, 2, 3, 4], 'channel_index': [0, 2, 0, 1, 3]},\n",
       "  'SMA/ACTA2': {'round_index': [0, 1, 2, 3, 4],\n",
       "   'channel_index': [2, 0, 3, 2, 3]},\n",
       "  'FAP': {'round_index': [0, 1, 2, 3, 4], 'channel_index': [1, 1, 0, 3, 3]},\n",
       "  'VIM': {'round_index': [0, 1, 2, 3, 4], 'channel_index': [0, 2, 3, 3, 2]},\n",
       "  'PDGFRB': {'round_index': [0, 1, 2, 3, 4], 'channel_index': [0, 3, 0, 3, 3]},\n",
       "  'PDGFRA': {'round_index': [0, 1, 2, 3, 4], 'channel_index': [0, 0, 3, 2, 1]},\n",
       "  'TAGLN': {'round_index': [0, 1, 2, 3, 4], 'channel_index': [3, 3, 2, 0, 2]},\n",
       "  'EPCAM': {'round_index': [0, 1, 2, 3, 4], 'channel_index': [3, 3, 3, 2, 3]},\n",
       "  'AAAAA': {'round_index': [0, 1, 2, 3, 4], 'channel_index': [1, 1, 1, 1, 1]},\n",
       "  'CCCCC': {'round_index': [0, 1, 2, 3, 4], 'channel_index': [0, 0, 0, 0, 0]},\n",
       "  'TTTTT': {'round_index': [0, 1, 2, 3, 4], 'channel_index': [3, 3, 3, 3, 3]},\n",
       "  'GGGGG': {'round_index': [0, 1, 2, 3, 4], 'channel_index': [2, 2, 2, 2, 2]},\n",
       "  'Negative-1': {'round_index': [0, 1, 2, 3, 4],\n",
       "   'channel_index': [0, 3, 1, 3, 2]},\n",
       "  'Negative-2': {'round_index': [0, 1, 2, 3, 4],\n",
       "   'channel_index': [0, 1, 1, 2, 2]},\n",
       "  'Negative-3': {'round_index': [0, 1, 2, 3, 4],\n",
       "   'channel_index': [2, 2, 2, 0, 2]},\n",
       "  'Negative-4': {'round_index': [0, 1, 2, 3, 4],\n",
       "   'channel_index': [0, 0, 1, 0, 1]},\n",
       "  'Negative-5': {'round_index': [0, 1, 2, 3, 4],\n",
       "   'channel_index': [3, 1, 3, 3, 1]},\n",
       "  'Negative-6': {'round_index': [0, 1, 2, 3, 4],\n",
       "   'channel_index': [1, 0, 2, 1, 2]},\n",
       "  'Negative-7': {'round_index': [0, 1, 2, 3, 4],\n",
       "   'channel_index': [1, 2, 3, 3, 3]},\n",
       "  'Negative-8': {'round_index': [0, 1, 2, 3, 4],\n",
       "   'channel_index': [1, 3, 3, 0, 1]},\n",
       "  'Negative-9': {'round_index': [0, 1, 2, 3, 4],\n",
       "   'channel_index': [2, 2, 3, 2, 1]},\n",
       "  'Negative-10': {'round_index': [0, 1, 2, 3, 4],\n",
       "   'channel_index': [1, 2, 2, 0, 1]}}}"
      ]
     },
     "execution_count": 4,
     "metadata": {},
     "output_type": "execute_result"
    }
   ],
   "source": []
  },
  {
   "cell_type": "code",
   "execution_count": 8,
   "metadata": {},
   "outputs": [],
   "source": [
    "from imaging_utils import ISSDataContainer\n",
    "issdata = ISSDataContainer().add_images_from_filepattern(join('stitched','R{round}_C{channel}.tif'))\n",
    "# Load the stitched data\n",
    "issdata = ISSDataContainer().add_images_from_filepattern(join('stitched','R{round}_C{channel}.tif'))\n",
    "# Load the data into memory\n",
    "issdata.load()"
   ]
  },
  {
   "cell_type": "code",
   "execution_count": 34,
   "metadata": {},
   "outputs": [
    {
     "name": "stdout",
     "output_type": "stream",
     "text": [
      "Example code in the codebook:\n",
      "[[1. 0. 0. 0. 0.]\n",
      " [0. 0. 0. 1. 0.]\n",
      " [0. 0. 1. 0. 0.]\n",
      " [0. 1. 0. 0. 0.]\n",
      " [1. 0. 0. 0. 0.]]\n"
     ]
    }
   ],
   "source": [
    "import pickle\n",
    "# Load combinatorial labels (the codebook)\n",
    "# The metadata file is available in the Google Drive\n",
    "metadata = pickle.load(open('metadata.pkl', 'rb'))\n",
    "codebook = metadata['codebook']\n",
    "gene_names = list(codebook.keys())\n",
    "\n",
    "# We need to create a 3D numpy array of shape (num_genes, num_rounds, num_channels)\n",
    "# that containes the combinatorial labells in a one-hot format\n",
    "n_codes, n_rounds, n_channels = len(codebook), 5, 5\n",
    "codebook_numpy = np.zeros((n_codes, n_rounds, n_channels))\n",
    "for gene_id, (gene, indices) in enumerate(codebook.items()):\n",
    "    round_id, channel_id = indices['round_index'], indices['channel_index']\n",
    "    codebook_numpy[gene_id, round_id, channel_id] = 1\n",
    "\n",
    "print('Example code in the codebook:')\n",
    "print(codebook_numpy[0])\n"
   ]
  },
  {
   "cell_type": "code",
   "execution_count": 28,
   "metadata": {},
   "outputs": [
    {
     "name": "stdout",
     "output_type": "stream",
     "text": [
      "Hej\n"
     ]
    }
   ],
   "source": [
    "from imaging_utils import ISSDataContainer\n",
    "from decoding import istdeco_decode, estimate_fdr\n",
    "import pandas as pd\n",
    "from os.path import join\n",
    "\n",
    "\n",
    "\n",
    "# Run the decoding\n",
    "results = []\n",
    "for tile, origin in issdata.iterate_tiles(tile_height=512, tile_width=512, squeeze=True):\n",
    "    print('Hej')\n",
    "    # Decode the data using matrix factorization\n",
    "\n",
    "    # Depending on your data, you might want to adjust the parameter min_integrated_intensity\n",
    "    # or min_correct_spots\n",
    "    # Usually a quality threshold between 0.5 and 0.85 works fine. \n",
    "\n",
    "    # This is really slow unless we can run on the GPU.\n",
    "    decoded_table = istdeco_decode(tile, codebook_numpy, psf_sigma=(2.0, 2.0), device='cpu')\n",
    "\n",
    "    decoded_table['Y'] = decoded_table['Y'] + origin[0]\n",
    "    decoded_table['X'] = decoded_table['X'] + origin[1]\n",
    "    results.append(pd.DataFrame(decoded_table))\n",
    "\n",
    "    # Remove this to run over everything\n",
    "    break\n",
    "\n",
    "results = pd.concat(results, axis=1)"
   ]
  },
  {
   "cell_type": "code",
   "execution_count": 31,
   "metadata": {},
   "outputs": [
    {
     "data": {
      "text/html": [
       "<div>\n",
       "<style scoped>\n",
       "    .dataframe tbody tr th:only-of-type {\n",
       "        vertical-align: middle;\n",
       "    }\n",
       "\n",
       "    .dataframe tbody tr th {\n",
       "        vertical-align: top;\n",
       "    }\n",
       "\n",
       "    .dataframe thead th {\n",
       "        text-align: right;\n",
       "    }\n",
       "</style>\n",
       "<table border=\"1\" class=\"dataframe\">\n",
       "  <thead>\n",
       "    <tr style=\"text-align: right;\">\n",
       "      <th></th>\n",
       "      <th>Target id</th>\n",
       "      <th>Y</th>\n",
       "      <th>X</th>\n",
       "      <th>Intensity</th>\n",
       "      <th>Num explained spots</th>\n",
       "      <th>Rounds</th>\n",
       "      <th>Channels</th>\n",
       "      <th>Gene</th>\n",
       "    </tr>\n",
       "  </thead>\n",
       "  <tbody>\n",
       "    <tr>\n",
       "      <th>0</th>\n",
       "      <td>1</td>\n",
       "      <td>136</td>\n",
       "      <td>52</td>\n",
       "      <td>28665.427734</td>\n",
       "      <td>4.317851</td>\n",
       "      <td>0;1;2;3;4</td>\n",
       "      <td>3;0;2;1;0</td>\n",
       "      <td>MLXIPL</td>\n",
       "    </tr>\n",
       "    <tr>\n",
       "      <th>1</th>\n",
       "      <td>3</td>\n",
       "      <td>437</td>\n",
       "      <td>186</td>\n",
       "      <td>9208.605469</td>\n",
       "      <td>3.607927</td>\n",
       "      <td>0;1;2;3;4</td>\n",
       "      <td>1;2;2;2;3</td>\n",
       "      <td>MXD1</td>\n",
       "    </tr>\n",
       "    <tr>\n",
       "      <th>2</th>\n",
       "      <td>5</td>\n",
       "      <td>134</td>\n",
       "      <td>346</td>\n",
       "      <td>10212.162109</td>\n",
       "      <td>3.244146</td>\n",
       "      <td>0;1;2;3;4</td>\n",
       "      <td>3;1;3;1;0</td>\n",
       "      <td>TIE1</td>\n",
       "    </tr>\n",
       "    <tr>\n",
       "      <th>3</th>\n",
       "      <td>16</td>\n",
       "      <td>491</td>\n",
       "      <td>448</td>\n",
       "      <td>16951.195312</td>\n",
       "      <td>3.878304</td>\n",
       "      <td>0;1;2;3;4</td>\n",
       "      <td>2;3;1;0;0</td>\n",
       "      <td>GGT5</td>\n",
       "    </tr>\n",
       "    <tr>\n",
       "      <th>4</th>\n",
       "      <td>45</td>\n",
       "      <td>156</td>\n",
       "      <td>152</td>\n",
       "      <td>11950.286133</td>\n",
       "      <td>3.599404</td>\n",
       "      <td>0;1;2;3;4</td>\n",
       "      <td>0;2;2;0;0</td>\n",
       "      <td>TBX2</td>\n",
       "    </tr>\n",
       "    <tr>\n",
       "      <th>...</th>\n",
       "      <td>...</td>\n",
       "      <td>...</td>\n",
       "      <td>...</td>\n",
       "      <td>...</td>\n",
       "      <td>...</td>\n",
       "      <td>...</td>\n",
       "      <td>...</td>\n",
       "      <td>...</td>\n",
       "    </tr>\n",
       "    <tr>\n",
       "      <th>273</th>\n",
       "      <td>146</td>\n",
       "      <td>337</td>\n",
       "      <td>134</td>\n",
       "      <td>8287.593750</td>\n",
       "      <td>3.466586</td>\n",
       "      <td>0;1;2;3;4</td>\n",
       "      <td>0;3;0;3;3</td>\n",
       "      <td>PDGFRB</td>\n",
       "    </tr>\n",
       "    <tr>\n",
       "      <th>274</th>\n",
       "      <td>148</td>\n",
       "      <td>266</td>\n",
       "      <td>477</td>\n",
       "      <td>16989.785156</td>\n",
       "      <td>3.830489</td>\n",
       "      <td>0;1;2;3;4</td>\n",
       "      <td>3;3;2;0;2</td>\n",
       "      <td>TAGLN</td>\n",
       "    </tr>\n",
       "    <tr>\n",
       "      <th>275</th>\n",
       "      <td>148</td>\n",
       "      <td>267</td>\n",
       "      <td>58</td>\n",
       "      <td>3753.294922</td>\n",
       "      <td>3.463863</td>\n",
       "      <td>0;1;2;3;4</td>\n",
       "      <td>3;3;2;0;2</td>\n",
       "      <td>TAGLN</td>\n",
       "    </tr>\n",
       "    <tr>\n",
       "      <th>276</th>\n",
       "      <td>148</td>\n",
       "      <td>269</td>\n",
       "      <td>62</td>\n",
       "      <td>3715.117432</td>\n",
       "      <td>3.300487</td>\n",
       "      <td>0;1;2;3;4</td>\n",
       "      <td>3;3;2;0;2</td>\n",
       "      <td>TAGLN</td>\n",
       "    </tr>\n",
       "    <tr>\n",
       "      <th>277</th>\n",
       "      <td>148</td>\n",
       "      <td>369</td>\n",
       "      <td>421</td>\n",
       "      <td>15764.274414</td>\n",
       "      <td>3.548648</td>\n",
       "      <td>0;1;2;3;4</td>\n",
       "      <td>3;3;2;0;2</td>\n",
       "      <td>TAGLN</td>\n",
       "    </tr>\n",
       "  </tbody>\n",
       "</table>\n",
       "<p>278 rows × 8 columns</p>\n",
       "</div>"
      ],
      "text/plain": [
       "     Target id    Y    X     Intensity  Num explained spots     Rounds  \\\n",
       "0            1  136   52  28665.427734             4.317851  0;1;2;3;4   \n",
       "1            3  437  186   9208.605469             3.607927  0;1;2;3;4   \n",
       "2            5  134  346  10212.162109             3.244146  0;1;2;3;4   \n",
       "3           16  491  448  16951.195312             3.878304  0;1;2;3;4   \n",
       "4           45  156  152  11950.286133             3.599404  0;1;2;3;4   \n",
       "..         ...  ...  ...           ...                  ...        ...   \n",
       "273        146  337  134   8287.593750             3.466586  0;1;2;3;4   \n",
       "274        148  266  477  16989.785156             3.830489  0;1;2;3;4   \n",
       "275        148  267   58   3753.294922             3.463863  0;1;2;3;4   \n",
       "276        148  269   62   3715.117432             3.300487  0;1;2;3;4   \n",
       "277        148  369  421  15764.274414             3.548648  0;1;2;3;4   \n",
       "\n",
       "      Channels    Gene  \n",
       "0    3;0;2;1;0  MLXIPL  \n",
       "1    1;2;2;2;3    MXD1  \n",
       "2    3;1;3;1;0    TIE1  \n",
       "3    2;3;1;0;0    GGT5  \n",
       "4    0;2;2;0;0    TBX2  \n",
       "..         ...     ...  \n",
       "273  0;3;0;3;3  PDGFRB  \n",
       "274  3;3;2;0;2   TAGLN  \n",
       "275  3;3;2;0;2   TAGLN  \n",
       "276  3;3;2;0;2   TAGLN  \n",
       "277  3;3;2;0;2   TAGLN  \n",
       "\n",
       "[278 rows x 8 columns]"
      ]
     },
     "execution_count": 31,
     "metadata": {},
     "output_type": "execute_result"
    }
   ],
   "source": [
    "results['Gene' ] = [gene_names[id] for id in results['Target id']]\n",
    "results\n"
   ]
  },
  {
   "cell_type": "markdown",
   "metadata": {},
   "source": [
    "Some of the genes are marked as `Negatives` in the codebook. These genes correspond to non-biological labels that we do not expect to find in the data. Treating these negative genes as false-positives allow us to estimate a false discovery rate. This value is useful for quality control. "
   ]
  },
  {
   "cell_type": "code",
   "execution_count": 36,
   "metadata": {},
   "outputs": [
    {
     "name": "stdout",
     "output_type": "stream",
     "text": [
      "0.0\n"
     ]
    }
   ],
   "source": [
    "positive_labels = [gene for gene in gene_names if 'Negative' not in gene]\n",
    "negative_labels =  [gene for gene in gene_names if 'Negative' in gene]\n",
    "fdr = estimate_fdr(results['Gene'], negative_labels, positive_labels)\n",
    "print(f'False discovery rate is: {fdr}')"
   ]
  },
  {
   "cell_type": "code",
   "execution_count": 40,
   "metadata": {},
   "outputs": [
    {
     "name": "stdout",
     "output_type": "stream",
     "text": [
      "False discovery rate is: 0.0\n"
     ]
    }
   ],
   "source": [
    "# We can also compute the quality for a different quality threshold \n",
    "fdr = estimate_fdr(results.query('`Num explained spots` > 3')['Gene'], negative_labels, positive_labels)\n",
    "print(f'False discovery rate is: {fdr}')"
   ]
  },
  {
   "cell_type": "markdown",
   "metadata": {},
   "source": [
    "An FDR < 1% is pretty OK"
   ]
  }
 ],
 "metadata": {
  "kernelspec": {
   "display_name": "bioinformatics",
   "language": "python",
   "name": "python3"
  },
  "language_info": {
   "codemirror_mode": {
    "name": "ipython",
    "version": 3
   },
   "file_extension": ".py",
   "mimetype": "text/x-python",
   "name": "python",
   "nbconvert_exporter": "python",
   "pygments_lexer": "ipython3",
   "version": "3.9.13"
  },
  "orig_nbformat": 4
 },
 "nbformat": 4,
 "nbformat_minor": 2
}
