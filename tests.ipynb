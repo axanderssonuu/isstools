{
 "cells": [
  {
   "cell_type": "markdown",
   "metadata": {},
   "source": [
    "fr"
   ]
  },
  {
   "cell_type": "code",
   "execution_count": 1,
   "metadata": {},
   "outputs": [
    {
     "name": "stdout",
     "output_type": "stream",
     "text": [
      "Added ..\\..\\ISTDECO\\ASHLAR\\ASHLAR_R0_C0.tif. Stage: 0, Round: 0, Channel: 0\n",
      "Added ..\\..\\ISTDECO\\ASHLAR\\ASHLAR_R0_C1.tif. Stage: 0, Round: 0, Channel: 1\n",
      "Added ..\\..\\ISTDECO\\ASHLAR\\ASHLAR_R0_C2.tif. Stage: 0, Round: 0, Channel: 2\n",
      "Added ..\\..\\ISTDECO\\ASHLAR\\ASHLAR_R0_C3.tif. Stage: 0, Round: 0, Channel: 3\n",
      "Added ..\\..\\ISTDECO\\ASHLAR\\ASHLAR_R0_C4.tif. Stage: 0, Round: 0, Channel: 4\n",
      "Added ..\\..\\ISTDECO\\ASHLAR\\ASHLAR_R1_C0.tif. Stage: 0, Round: 1, Channel: 0\n",
      "Added ..\\..\\ISTDECO\\ASHLAR\\ASHLAR_R1_C1.tif. Stage: 0, Round: 1, Channel: 1\n",
      "Added ..\\..\\ISTDECO\\ASHLAR\\ASHLAR_R1_C2.tif. Stage: 0, Round: 1, Channel: 2\n",
      "Added ..\\..\\ISTDECO\\ASHLAR\\ASHLAR_R1_C3.tif. Stage: 0, Round: 1, Channel: 3\n",
      "Added ..\\..\\ISTDECO\\ASHLAR\\ASHLAR_R1_C4.tif. Stage: 0, Round: 1, Channel: 4\n",
      "Added ..\\..\\ISTDECO\\ASHLAR\\ASHLAR_R2_C0.tif. Stage: 0, Round: 2, Channel: 0\n",
      "Added ..\\..\\ISTDECO\\ASHLAR\\ASHLAR_R2_C1.tif. Stage: 0, Round: 2, Channel: 1\n",
      "Added ..\\..\\ISTDECO\\ASHLAR\\ASHLAR_R2_C2.tif. Stage: 0, Round: 2, Channel: 2\n",
      "Added ..\\..\\ISTDECO\\ASHLAR\\ASHLAR_R2_C3.tif. Stage: 0, Round: 2, Channel: 3\n",
      "Added ..\\..\\ISTDECO\\ASHLAR\\ASHLAR_R2_C4.tif. Stage: 0, Round: 2, Channel: 4\n",
      "Added ..\\..\\ISTDECO\\ASHLAR\\ASHLAR_R3_C0.tif. Stage: 0, Round: 3, Channel: 0\n",
      "Added ..\\..\\ISTDECO\\ASHLAR\\ASHLAR_R3_C1.tif. Stage: 0, Round: 3, Channel: 1\n",
      "Added ..\\..\\ISTDECO\\ASHLAR\\ASHLAR_R3_C2.tif. Stage: 0, Round: 3, Channel: 2\n",
      "Added ..\\..\\ISTDECO\\ASHLAR\\ASHLAR_R3_C3.tif. Stage: 0, Round: 3, Channel: 3\n",
      "Added ..\\..\\ISTDECO\\ASHLAR\\ASHLAR_R3_C4.tif. Stage: 0, Round: 3, Channel: 4\n",
      "Added ..\\..\\ISTDECO\\ASHLAR\\ASHLAR_R4_C0.tif. Stage: 0, Round: 4, Channel: 0\n",
      "Added ..\\..\\ISTDECO\\ASHLAR\\ASHLAR_R4_C1.tif. Stage: 0, Round: 4, Channel: 1\n",
      "Added ..\\..\\ISTDECO\\ASHLAR\\ASHLAR_R4_C2.tif. Stage: 0, Round: 4, Channel: 2\n",
      "Added ..\\..\\ISTDECO\\ASHLAR\\ASHLAR_R4_C3.tif. Stage: 0, Round: 4, Channel: 3\n",
      "Added ..\\..\\ISTDECO\\ASHLAR\\ASHLAR_R4_C4.tif. Stage: 0, Round: 4, Channel: 4\n"
     ]
    },
    {
     "data": {
      "text/plain": [
       "<imaging_utils.ISSDataContainer at 0x1cd66bc4cd0>"
      ]
     },
     "execution_count": 1,
     "metadata": {},
     "output_type": "execute_result"
    }
   ],
   "source": [
    "import json\n",
    "from decoding import istdeco_decode\n",
    "from imaging_utils import ISSDataContainer\n",
    "import numpy as np\n",
    "import pandas as pd\n",
    "from decoding import estimate_fdr\n",
    "\n",
    "# Create the codebook\n",
    "num_rounds = 5\n",
    "num_channels = 5\n",
    "\n",
    "\n",
    "data = json.load(open(r'..\\..\\ISTDECO\\downloads\\liver_2d\\metadata.json','r'))['target_data']\n",
    "codebook = np.zeros((len(data), num_rounds, num_channels))\n",
    "gene_names = []\n",
    "for i, item in enumerate(data):\n",
    "    channels = []\n",
    "    gene_names.append(item['names'])\n",
    "    for r in range(num_rounds):\n",
    "        for c in range(num_channels):\n",
    "            codebook[i,r,c] = item[f'r{r}_c{c}']\n",
    "\n",
    "dataset = ISSDataContainer()\n",
    "dataset.add_images_from_filepattern('..\\\\..\\\\ISTDECO\\\\ASHLAR\\\\ASHLAR_R{round}_C{channel}.tif')\n",
    "dataset.load()\n"
   ]
  },
  {
   "cell_type": "code",
   "execution_count": 16,
   "metadata": {},
   "outputs": [
    {
     "name": "stdout",
     "output_type": "stream",
     "text": [
      "30\n",
      "FDR: 0.030677290836042287, N: 502\n"
     ]
    }
   ],
   "source": [
    "dfs = []\n",
    "for k, (slice, loc) in enumerate(dataset.iterate_tiles(512, 512)):\n",
    "    if k == 30:\n",
    "        data = slice.squeeze()\n",
    "        output = istdeco_decode(data, codebook, (1.50, 1.50), lowpass_sigma=(7.0, 7.0), min_integrated_intensity=1000, min_correct_spots=3.5)\n",
    "        output['X'] = output['X'] + loc[1]\n",
    "        output['Y'] = output['Y'] + loc[0]\n",
    "        output['Gene'] = [gene_names[id] for id in output['Target id']]\n",
    "        dfs.append(pd.DataFrame(output))\n",
    "        print(k)\n",
    "dfs = pd.concat(dfs)\n",
    "labels = dfs['Gene'].to_list()\n",
    "neg = [g for g in gene_names if 'Blank' in g]\n",
    "pos = [g for g in gene_names if 'Blank' not in g]\n",
    "fdr = estimate_fdr(labels, neg, pos)\n",
    "print(f'FDR: {fdr}, N: {len(labels)}')\n",
    "#dfs.to_csv('..\\\\..\\\\ISTDECO\\\\ASHLAR\\\\result.csv', index=False)\n"
   ]
  },
  {
   "cell_type": "code",
   "execution_count": 7,
   "metadata": {},
   "outputs": [
    {
     "name": "stdout",
     "output_type": "stream",
     "text": [
      "30\n",
      "FDR: 0.14392523364149706, N: 428\n"
     ]
    }
   ],
   "source": [
    "from channel_utils import ChannelAnalyzer\n",
    "\n",
    "dfs = []\n",
    "for k, (slice, loc) in enumerate(dataset.iterate_tiles(512, 512)):\n",
    "    if k == 30:\n",
    "        data = slice.squeeze()\n",
    "        cross = []\n",
    "        for r in range(5):\n",
    "            ch = ChannelAnalyzer(data[r].copy())\n",
    "            cross.append(np.diag(np.diag(ch.crosstalk_matrix)))\n",
    "        cross = np.array(cross)\n",
    "        cross[:,4,:] = 0\n",
    "        cross[:,:,4] = 0\n",
    "\n",
    "        output = istdeco_decode(data, codebook, (2.50, 2.50), lowpass_sigma=(7.0, 7.0), min_integrated_intensity=1000, min_correct_spots=3.7, radius=2)\n",
    "        output['X'] = output['X'] + loc[1]\n",
    "        output['Y'] = output['Y'] + loc[0]\n",
    "        output['Gene'] = [gene_names[id] for id in output['Target id']]\n",
    "        dfs.append(pd.DataFrame(output))\n",
    "        print(k)\n",
    "dfs = pd.concat(dfs)\n",
    "labels = dfs['Gene'].to_list()\n",
    "neg = [g for g in gene_names if 'Blank' in g]\n",
    "pos = [g for g in gene_names if 'Blank' not in g]\n",
    "fdr = estimate_fdr(labels, neg, pos)\n",
    "print(f'FDR: {fdr}, N: {len(labels)}')\n",
    "#dfs.to_csv('..\\\\..\\\\ISTDECO\\\\ASHLAR\\\\result.csv', index=False)\n"
   ]
  },
  {
   "cell_type": "code",
   "execution_count": 6,
   "metadata": {},
   "outputs": [
    {
     "name": "stdout",
     "output_type": "stream",
     "text": [
      "FDR: 0.24131054130710386, N: 702\n"
     ]
    }
   ],
   "source": [
    "fdr = estimate_fdr(labels, neg, pos)\n",
    "print(f'FDR: {fdr}, N: {len(labels)}')\n"
   ]
  },
  {
   "cell_type": "code",
   "execution_count": 14,
   "metadata": {},
   "outputs": [
    {
     "data": {
      "text/plain": [
       "array([[0.70206635, 0.        , 0.        , 0.        , 0.        ],\n",
       "       [0.        , 1.        , 0.        , 0.        , 0.        ],\n",
       "       [0.        , 0.        , 0.89818449, 0.        , 0.        ],\n",
       "       [0.        , 0.        , 0.        , 0.73230722, 0.        ],\n",
       "       [0.        , 0.        , 0.        , 0.        , 0.        ]])"
      ]
     },
     "execution_count": 14,
     "metadata": {},
     "output_type": "execute_result"
    }
   ],
   "source": [
    "cross[0,:,:]"
   ]
  }
 ],
 "metadata": {
  "kernelspec": {
   "display_name": "bioinformatics",
   "language": "python",
   "name": "python3"
  },
  "language_info": {
   "codemirror_mode": {
    "name": "ipython",
    "version": 3
   },
   "file_extension": ".py",
   "mimetype": "text/x-python",
   "name": "python",
   "nbconvert_exporter": "python",
   "pygments_lexer": "ipython3",
   "version": "3.9.13"
  },
  "orig_nbformat": 4
 },
 "nbformat": 4,
 "nbformat_minor": 2
}
